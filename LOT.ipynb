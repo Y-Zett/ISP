{
 "cells": [
  {
   "cell_type": "markdown",
   "metadata": {},
   "source": [
    "### 1. Что будет в выводе после выполнения кода?\n"
   ]
  },
  {
   "cell_type": "code",
   "execution_count": 58,
   "metadata": {
    "tags": []
   },
   "outputs": [
    {
     "output_type": "stream",
     "name": "stdout",
     "text": "on\n"
    }
   ],
   "source": [
    "print(\"python is great\" [4:6])"
   ]
  },
  {
   "cell_type": "markdown",
   "metadata": {},
   "source": [
    "### 2. ​ Какое значение будет в переменной «foo» после выполнения этого кода?\n",
    "> При операциях сравнения если обЪект не пуст, то значение true, иначе false"
   ]
  },
  {
   "cell_type": "code",
   "execution_count": 59,
   "metadata": {
    "tags": []
   },
   "outputs": [
    {
     "output_type": "stream",
     "name": "stdout",
     "text": "123\n"
    }
   ],
   "source": [
    "foo = 123\n",
    "some_flag = True\n",
    "some_list = []\n",
    "if some_flag and some_list:\n",
    "    foo = 321\n",
    "print (foo)"
   ]
  },
  {
   "cell_type": "markdown",
   "metadata": {},
   "source": [
    "### 3. Как правильно добавить элемент в список? (“a” - это список)"
   ]
  },
  {
   "cell_type": "code",
   "execution_count": 60,
   "metadata": {
    "tags": []
   },
   "outputs": [
    {
     "output_type": "stream",
     "name": "stdout",
     "text": "[1]\n"
    }
   ],
   "source": [
    "a = []\n",
    "a.append(1)\n",
    "print(a)"
   ]
  },
  {
   "cell_type": "markdown",
   "metadata": {},
   "source": [
    "### 4. ​ Будет ли следующий код создавать список со всеми нечетными числами меньше 10?"
   ]
  },
  {
   "cell_type": "code",
   "execution_count": 61,
   "metadata": {
    "tags": []
   },
   "outputs": [
    {
     "output_type": "stream",
     "name": "stdout",
     "text": "[1, 3, 5, 7, 9]\n"
    }
   ],
   "source": [
    "i = [k for k in range(10) if k % 2]\n",
    "print(i)"
   ]
  },
  {
   "cell_type": "markdown",
   "metadata": {},
   "source": [
    "### 5. ​ Выберите функцию, которая может конвертировать строку «1 + 5» в 6 (int)\n",
    "> https://habr.com/ru/post/221937/"
   ]
  },
  {
   "cell_type": "code",
   "execution_count": 62,
   "metadata": {
    "tags": []
   },
   "outputs": [
    {
     "output_type": "stream",
     "name": "stdout",
     "text": "6\n"
    }
   ],
   "source": [
    "s = \"1 + 5\"\n",
    "s = eval(s)\n",
    "\n",
    "print(s)"
   ]
  },
  {
   "cell_type": "markdown",
   "metadata": {},
   "source": [
    "### 6.  ​ Можно ли lambda функцию присвоиться переменной, например «a = lambda х: х ** 2»?"
   ]
  },
  {
   "cell_type": "code",
   "execution_count": 63,
   "metadata": {
    "tags": []
   },
   "outputs": [
    {
     "output_type": "stream",
     "name": "stdout",
     "text": "4\n"
    }
   ],
   "source": [
    "a = lambda x: x**2\n",
    "print(a(2))"
   ]
  },
  {
   "cell_type": "markdown",
   "metadata": {},
   "source": [
    "### 7.  ​ Выберите правильный вывод следующего кода."
   ]
  },
  {
   "cell_type": "code",
   "execution_count": 64,
   "metadata": {
    "tags": []
   },
   "outputs": [
    {
     "output_type": "stream",
     "name": "stdout",
     "text": "4\n"
    }
   ],
   "source": [
    "def bar(a, b, c, *args):\n",
    "    return a + b + c - len(args)\n",
    "\n",
    "print(bar(1, 2, 3, 4, 5))"
   ]
  },
  {
   "cell_type": "markdown",
   "metadata": {},
   "source": [
    "### 8.  ​ Каков результат этого выражения?"
   ]
  },
  {
   "cell_type": "code",
   "execution_count": 66,
   "metadata": {
    "tags": []
   },
   "outputs": [
    {
     "output_type": "stream",
     "name": "stdout",
     "text": "57\n"
    }
   ],
   "source": [
    "print(5 ** 2 + 16 // 2 * (2 + 2))"
   ]
  },
  {
   "cell_type": "markdown",
   "metadata": {},
   "source": [
    "### 9.  ​ Может ли функция передаваться как параметр функции?\n",
    "Да.  \n",
    "> Цитата :   функции в python являются объектами, соответственно, их можно возвращать из другой функции или передавать в качестве аргумента. Также следует помнить, что функция в python может быть определена и внутри другой функции. Взято здесь https://pythonworld.ru/osnovy/dekoratory.html"
   ]
  },
  {
   "cell_type": "code",
   "execution_count": 67,
   "metadata": {
    "tags": []
   },
   "outputs": [
    {
     "output_type": "stream",
     "name": "stdout",
     "text": "36\nend\n"
    }
   ],
   "source": [
    "\n",
    "def f(x):\n",
    "    return x ** 2\n",
    "\n",
    "def y (a, b):\n",
    "    return a(b)\n",
    "\n",
    "print(y(f, 6))\n",
    "print(\"end\")"
   ]
  },
  {
   "cell_type": "markdown",
   "metadata": {},
   "source": [
    "### 10. ​ Рассмотрим следующий код. Будет ли вызвано исключение?\n",
    "Да, будет вызвано ZeroDivision exeption, наследник BaseExeption. \n",
    "> https://pythonworld.ru/tipy-dannyx-v-python/isklyucheniya-v-python-konstrukciya-try-except-dlya-obrabotki-isklyuchenij.html"
   ]
  },
  {
   "cell_type": "code",
   "execution_count": 68,
   "metadata": {
    "tags": []
   },
   "outputs": [
    {
     "output_type": "stream",
     "name": "stdout",
     "text": "5\n"
    }
   ],
   "source": [
    "a, b = 10, 0\n",
    "\n",
    "try:\n",
    "    c = a / b\n",
    "except Exception as exc:\n",
    "    c = 5\n",
    "\n",
    "print(c)"
   ]
  },
  {
   "cell_type": "markdown",
   "metadata": {},
   "source": [
    "### 11. ​ Чему будет равна переменная «c» после выполнения этого кода?\n",
    "> set() - Build an unordered collection of unique elements. "
   ]
  },
  {
   "cell_type": "code",
   "execution_count": 69,
   "metadata": {
    "tags": []
   },
   "outputs": [
    {
     "output_type": "stream",
     "name": "stdout",
     "text": "[1, 2, 3, 4]\n"
    }
   ],
   "source": [
    "a = [1, 2, 3]\n",
    "b = a + [1, 2, 3, 4]\n",
    "c = list(set(b))\n",
    "print(c)"
   ]
  },
  {
   "cell_type": "markdown",
   "metadata": {},
   "source": [
    "### 12. ​ Выберите вариант ответа для изменения порядка переменной «array» (array = [1, 2, 3, 4, 5,  6, 7, 8, 9]).\n",
    "### Чтобы array был равен [9, 8, 7, ... 1]"
   ]
  },
  {
   "cell_type": "code",
   "execution_count": 70,
   "metadata": {
    "tags": []
   },
   "outputs": [
    {
     "output_type": "stream",
     "name": "stdout",
     "text": "[1, 2, 3, 4, 5, 6, 7, 8, 9]\n[9, 8, 7, 6, 5, 4, 3, 2, 1]\n"
    }
   ],
   "source": [
    "array = [i for i in range (1, 10)]\n",
    "print(array)\n",
    "\n",
    "#list(reversed(array))\n",
    "array = array[:: -1]\n",
    "print(array)"
   ]
  },
  {
   "cell_type": "markdown",
   "metadata": {},
   "source": [
    "### 13. ​ Будет ли этот код работать?\n",
    "> False. Cause it's Tuple(immutable(неизменяемый) object)."
   ]
  },
  {
   "cell_type": "code",
   "execution_count": 71,
   "metadata": {},
   "outputs": [
    {
     "output_type": "error",
     "ename": "TypeError",
     "evalue": "'tuple' object does not support item assignment",
     "traceback": [
      "\u001b[0;31m---------------------------------------------------------------------------\u001b[0m",
      "\u001b[0;31mTypeError\u001b[0m                                 Traceback (most recent call last)",
      "\u001b[0;32m<ipython-input-71-7ff91b3baae4>\u001b[0m in \u001b[0;36m<module>\u001b[0;34m\u001b[0m\n\u001b[1;32m      3\u001b[0m     \u001b[0;34m(\u001b[0m\u001b[0;34m'john'\u001b[0m\u001b[0;34m,\u001b[0m \u001b[0;34m'China'\u001b[0m\u001b[0;34m)\u001b[0m\u001b[0;34m\u001b[0m\u001b[0;34m\u001b[0m\u001b[0m\n\u001b[1;32m      4\u001b[0m ]\n\u001b[0;32m----> 5\u001b[0;31m \u001b[0muser_locations\u001b[0m\u001b[0;34m[\u001b[0m\u001b[0;36m0\u001b[0m\u001b[0;34m]\u001b[0m\u001b[0;34m[\u001b[0m\u001b[0;36m1\u001b[0m\u001b[0;34m]\u001b[0m \u001b[0;34m=\u001b[0m \u001b[0;34m'Canada'\u001b[0m\u001b[0;34m\u001b[0m\u001b[0;34m\u001b[0m\u001b[0m\n\u001b[0m",
      "\u001b[0;31mTypeError\u001b[0m: 'tuple' object does not support item assignment"
     ]
    }
   ],
   "source": [
    "user_locations = [\n",
    "    ('u1', 'USA'),\n",
    "    ('john', 'China')\n",
    "]\n",
    "user_locations[0][1] = 'Canada'"
   ]
  },
  {
   "cell_type": "markdown",
   "metadata": {},
   "source": [
    "### 14. ​ Что будет выводить следующий код?  \n",
    "> https://python-scripts.com/f-strings."
   ]
  },
  {
   "cell_type": "code",
   "execution_count": 72,
   "metadata": {
    "tags": []
   },
   "outputs": [
    {
     "output_type": "stream",
     "name": "stdout",
     "text": "Hello, sudo! Is it correct, that 5 + 1.5 = 6.5?\n"
    }
   ],
   "source": [
    "user = \"sudo\"\n",
    "a = 5\n",
    "b = 1.5\n",
    "s = f\"Hello, {user}! Is it correct, that {a} + {b} = {a + b}?\"\n",
    "print(s)"
   ]
  },
  {
   "cell_type": "markdown",
   "metadata": {},
   "source": [
    "### 15. Нужно создать словарь, где ключами будут имя человека, а значением будет возраст человека. Выберите неправильный вариант, который не создает такой словарь.\n",
    "  \n",
    "> Becouse it's set. Not a dictionary."
   ]
  },
  {
   "cell_type": "code",
   "execution_count": 74,
   "metadata": {
    "tags": []
   },
   "outputs": [
    {
     "output_type": "stream",
     "name": "stdout",
     "text": "<class 'set'>\n"
    }
   ],
   "source": [
    "d = {('Ann', 23), ('Max', 33)}\n",
    "print(type(d))"
   ]
  },
  {
   "cell_type": "markdown",
   "metadata": {},
   "source": [
    "### 16.  Выберите правильный путь в словаре ​ “d”​ к значению 111?"
   ]
  },
  {
   "cell_type": "code",
   "execution_count": 75,
   "metadata": {
    "tags": []
   },
   "outputs": [
    {
     "output_type": "stream",
     "name": "stdout",
     "text": "111\n"
    }
   ],
   "source": [
    "d = [\n",
    "\n",
    "    'hi',\n",
    "    '<3',\n",
    "    'key',\n",
    "    {\n",
    "        'number': 100,\n",
    "        'coordinate':\n",
    "        {\n",
    "            'x': 333,\n",
    "            'y': 20,\n",
    "            'z': 111\n",
    "        },\n",
    "        'value': -10\n",
    "    },\n",
    "    '=',\n",
    "]\n",
    "\n",
    "print(d[3]['coordinate']['z'])"
   ]
  },
  {
   "cell_type": "markdown",
   "metadata": {},
   "source": [
    "### 17.  Какое утверждение вызовет исключение?\n",
    "> In Python, any immutable object (such as an integer, boolean, string, tuple) is hashable, meaning its value does not change during its lifetime. This allows Python to create a unique hash value to identify it, which can be used by dictionaries to track unique keys and sets to track unique values.\n",
    "\n",
    "> This is why Python requires us to use immutable datatypes for the keys in a dictionary."
   ]
  },
  {
   "cell_type": "code",
   "execution_count": 76,
   "metadata": {},
   "outputs": [
    {
     "output_type": "error",
     "ename": "TypeError",
     "evalue": "unhashable type: 'list'",
     "traceback": [
      "\u001b[0;31m---------------------------------------------------------------------------\u001b[0m",
      "\u001b[0;31mTypeError\u001b[0m                                 Traceback (most recent call last)",
      "\u001b[0;32m<ipython-input-76-a2d84c92bf36>\u001b[0m in \u001b[0;36m<module>\u001b[0;34m\u001b[0m\n\u001b[0;32m----> 1\u001b[0;31m \u001b[0md\u001b[0m \u001b[0;34m=\u001b[0m \u001b[0;34m{\u001b[0m\u001b[0;34m[\u001b[0m\u001b[0;36m1\u001b[0m\u001b[0;34m,\u001b[0m \u001b[0;36m2\u001b[0m\u001b[0;34m]\u001b[0m\u001b[0;34m:\u001b[0m \u001b[0;36m10\u001b[0m\u001b[0;34m}\u001b[0m\u001b[0;34m\u001b[0m\u001b[0;34m\u001b[0m\u001b[0m\n\u001b[0m",
      "\u001b[0;31mTypeError\u001b[0m: unhashable type: 'list'"
     ]
    }
   ],
   "source": [
    "d = {[1, 2]: 10}"
   ]
  },
  {
   "cell_type": "markdown",
   "metadata": {},
   "source": [
    "### 18. ​ Какой тип будет иметь переменная «foo» из этого кода?\n",
    "> Tuple \n"
   ]
  },
  {
   "cell_type": "code",
   "execution_count": 78,
   "metadata": {
    "tags": []
   },
   "outputs": [
    {
     "output_type": "stream",
     "name": "stdout",
     "text": "<class 'tuple'>\n"
    }
   ],
   "source": [
    "foo = 123,\n",
    "print(type(foo))"
   ]
  },
  {
   "cell_type": "markdown",
   "metadata": {},
   "source": [
    "### 19. Выберите правильный вывод этого кода"
   ]
  },
  {
   "cell_type": "code",
   "execution_count": 79,
   "metadata": {
    "tags": []
   },
   "outputs": [
    {
     "output_type": "stream",
     "name": "stdout",
     "text": "1.5 1.0 1\n"
    }
   ],
   "source": [
    "print(60 / 40, 60. // 40, 60 // 40)"
   ]
  },
  {
   "cell_type": "markdown",
   "metadata": {},
   "source": [
    "### 20.  ​ Рассмотрим следующий код и выберите, что будет в переменной «a».\n",
    "> a -- set .Set - collection of unique objects."
   ]
  },
  {
   "cell_type": "code",
   "execution_count": 80,
   "metadata": {
    "tags": []
   },
   "outputs": [
    {
     "output_type": "stream",
     "name": "stdout",
     "text": "{0, 1, 2}\n"
    }
   ],
   "source": [
    "a = {i % 3 for i in range(10) if i % 2}\n",
    "\n",
    "print(a)"
   ]
  },
  {
   "cell_type": "markdown",
   "metadata": {},
   "source": [
    "### 21. ​ Выберите правильный вывод следующего кода?\n",
    "> https://www.geeksforgeeks.org/args-kwargs-python/#:~:text=It%20is%20used%20to%20pass,used%20with%20the%20word%20args."
   ]
  },
  {
   "cell_type": "code",
   "execution_count": 81,
   "metadata": {
    "tags": []
   },
   "outputs": [
    {
     "output_type": "stream",
     "name": "stdout",
     "text": "(10, 20, 'foo')\n{'foo': 'bar', 'bar': '100'}\n"
    }
   ],
   "source": [
    "def some_func(*args, **kwargs):\n",
    "    print(args)\n",
    "    print(kwargs)\n",
    "\n",
    "some_func(10, 20, 'foo', foo = 'bar', bar = '100')"
   ]
  },
  {
   "cell_type": "markdown",
   "metadata": {},
   "source": [
    "### 22. ​ Выберите неправильный способ копирования словаря «d = {1: 2, 3: 5}»"
   ]
  },
  {
   "cell_type": "code",
   "execution_count": 83,
   "metadata": {
    "tags": []
   },
   "outputs": [
    {
     "output_type": "stream",
     "name": "stdout",
     "text": "<class 'set'>\n"
    }
   ],
   "source": [
    "d = {1 : 2, 3 : 5}\n",
    "\n",
    "# z = {k : d[k] if k in d else None for k in d.keys()} correct\n",
    "z =  {v for v in d.items()} # I think it's set but not dictionary.\n",
    "# z = {k : d[k] for k in d} correct\n",
    "# z = {k : d[k] for k in d if k in d}\n",
    "\n",
    "print(z)\n",
    "print(type(z))\n"
   ]
  },
  {
   "cell_type": "markdown",
   "metadata": {},
   "source": [
    "### 23.​ Выберите опцию со всеми функциями, которые могут быть вызваны без создания Foo.\n",
    "> All, but not Foo.bar().  \n",
    ">  https://pythonz.net/references/named/classmethod/"
   ]
  },
  {
   "cell_type": "code",
   "execution_count": 84,
   "metadata": {},
   "outputs": [],
   "source": [
    "def temp_func():\n",
    "    return \"temp\"\n",
    "\n",
    "class Foo:\n",
    "    def bar(self):\n",
    "        return \"bar\"\n",
    "\n",
    "    @staticmethod\n",
    "    def foo():\n",
    "        return \"foo\"\n",
    "\n",
    "    @classmethod\n",
    "    def func(cls):\n",
    "        return \"func\"\n",
    "\n",
    "\n"
   ]
  },
  {
   "cell_type": "markdown",
   "metadata": {},
   "source": [
    "### 24. Выберите опцию с неправильным способом вызова этой функции «foo».\n",
    "> Предположительно ответ -- foo(some_func())"
   ]
  },
  {
   "cell_type": "code",
   "execution_count": 85,
   "metadata": {},
   "outputs": [
    {
     "output_type": "error",
     "ename": "NameError",
     "evalue": "name 'Function' is not defined",
     "traceback": [
      "\u001b[0;31m---------------------------------------------------------------------------\u001b[0m",
      "\u001b[0;31mNameError\u001b[0m                                 Traceback (most recent call last)",
      "\u001b[0;32m<ipython-input-85-2c0b5509001a>\u001b[0m in \u001b[0;36m<module>\u001b[0;34m\u001b[0m\n\u001b[0;32m----> 1\u001b[0;31m \u001b[0;32mdef\u001b[0m \u001b[0mfoo\u001b[0m \u001b[0;34m(\u001b[0m\u001b[0mfunc\u001b[0m\u001b[0;34m:\u001b[0m \u001b[0mFunction\u001b[0m\u001b[0;34m)\u001b[0m\u001b[0;34m:\u001b[0m\u001b[0;34m\u001b[0m\u001b[0;34m\u001b[0m\u001b[0m\n\u001b[0m\u001b[1;32m      2\u001b[0m     \u001b[0;32mpass\u001b[0m\u001b[0;34m\u001b[0m\u001b[0;34m\u001b[0m\u001b[0m\n\u001b[1;32m      3\u001b[0m \u001b[0;34m\u001b[0m\u001b[0m\n\u001b[1;32m      4\u001b[0m \u001b[0;32mdef\u001b[0m \u001b[0msome_func\u001b[0m\u001b[0;34m(\u001b[0m\u001b[0mx\u001b[0m\u001b[0;34m:\u001b[0m \u001b[0mint\u001b[0m\u001b[0;34m)\u001b[0m \u001b[0;34m->\u001b[0m \u001b[0mint\u001b[0m\u001b[0;34m:\u001b[0m\u001b[0;34m\u001b[0m\u001b[0;34m\u001b[0m\u001b[0m\n\u001b[1;32m      5\u001b[0m     \u001b[0;32mreturn\u001b[0m \u001b[0mx\u001b[0m\u001b[0;34m\u001b[0m\u001b[0;34m\u001b[0m\u001b[0m\n",
      "\u001b[0;31mNameError\u001b[0m: name 'Function' is not defined"
     ]
    }
   ],
   "source": [
    "def foo (func: Function):\n",
    "    pass\n",
    "\n",
    "def some_func(x: int) -> int:\n",
    "    return x\n",
    "\n",
    "foo(lambda x : x ** 2)"
   ]
  },
  {
   "cell_type": "markdown",
   "metadata": {},
   "source": [
    "### 25. Что будет в переменной «c» после выполнения этого кода?\n",
    "> Elements of b compared to each element of a."
   ]
  },
  {
   "cell_type": "code",
   "execution_count": 86,
   "metadata": {
    "tags": []
   },
   "outputs": [
    {
     "output_type": "stream",
     "name": "stdout",
     "text": "[2, 3, 4]\n"
    }
   ],
   "source": [
    "a = [i for i in range(1, 5)]\n",
    "b = [i for i in range(2, 7)]\n",
    "k = 0\n",
    "c = [i for i in a for j in b if i == j]\n",
    "\n",
    "print(c)"
   ]
  },
  {
   "cell_type": "markdown",
   "metadata": {},
   "source": [
    "### 26. ​ Рассмотрим код ниже. Сколько раз будет оцениваться сравнение «i == j»?\n",
    " > #### 20   \n",
    " > Код в 25 задании."
   ]
  },
  {
   "cell_type": "markdown",
   "metadata": {},
   "source": [
    "### 27. ​ Будет ли следующий код выводить все числа меньше 5?\n",
    "> #### False.  \n",
    "> https://younglinux.info/python/feature/filter.     \n",
    "Without commented line u can't print el of array.\n"
   ]
  },
  {
   "cell_type": "code",
   "execution_count": 87,
   "metadata": {
    "tags": []
   },
   "outputs": [
    {
     "output_type": "stream",
     "name": "stdout",
     "text": "<filter object at 0x7fe74bca4438>\n"
    }
   ],
   "source": [
    "array = [i for i in range(1, 8)]\n",
    "array = filter(lambda x: x < 5, array)\n",
    "# array = list(array)\n",
    "print(array)"
   ]
  },
  {
   "cell_type": "markdown",
   "metadata": {},
   "source": [
    "### 28. Какую функцию следует использовать, чтобы показать все свойства? Например. показать все методы и атрибуты класса или экземпляра класса.\n",
    "\n"
   ]
  },
  {
   "cell_type": "markdown",
   "metadata": {},
   "source": [
    ">Предположительно -- > dir() https://pythonz.net/references/named/dir/   \n",
    "или help() -- https://www.programiz.com/python-programming/methods/built-in/help\n",
    "\n",
    ">globals(), locals() - returns dictionary of globals / locals symbol table.  \n",
    "callable() - returns true for objects that support calls.\n",
    "\n"
   ]
  },
  {
   "cell_type": "markdown",
   "metadata": {},
   "source": [
    "### 29.  Выберите правильный вывод следующего кода.\n",
    "> c являеться \"ключевым\" элементом функции. Можно сказать что это значение по умолчанию для того случая, когда вы не передаете в функцию значение данного элемента. "
   ]
  },
  {
   "cell_type": "code",
   "execution_count": 88,
   "metadata": {
    "tags": []
   },
   "outputs": [
    {
     "output_type": "stream",
     "name": "stdout",
     "text": "11\n"
    }
   ],
   "source": [
    "def gen():\n",
    "    return 5, 4, 2, 1, 3\n",
    "\n",
    "def foo(a, b, c = 11, *args):\n",
    "    return a + b + c\n",
    "\n",
    "print(foo(*gen()))"
   ]
  },
  {
   "cell_type": "markdown",
   "metadata": {},
   "source": [
    "### 30.  ​ Рассмотрите следующий код и выберите правильный вывод\n",
    "> TypeError - операция применена к объекту несоответствующего типа.  \n",
    "ValueError - функция получает аргумент правильного типа, но некорректного значения.  \n",
    "IndexError (возникает в данном случае) - возникающее при обращении к элементу по индексу, находящемуся вне диапазона.   \n",
    "Finally выполняет блок инструкций в любом случае, было ли исключение, или нет (применима, когда нужно непременно что-то сделать, к примеру, закрыть файл) \n"
   ]
  },
  {
   "cell_type": "code",
   "execution_count": 90,
   "metadata": {
    "tags": []
   },
   "outputs": [
    {
     "output_type": "stream",
     "name": "stdout",
     "text": "index\nbye\n"
    }
   ],
   "source": [
    "a = [1, 2, 3]\n",
    "\n",
    "try:\n",
    "    b = a[5]\n",
    "except TypeError:\n",
    "    print(\"type\")\n",
    "except ValueError:\n",
    "    print(\"value\")\n",
    "except IndexError:\n",
    "    print(\"index\")\n",
    "finally:\n",
    "    print(\"bye\")"
   ]
  },
  {
   "cell_type": "markdown",
   "metadata": {},
   "source": [
    "### 31.  ​Рассмотрим следующий код. Что будет на выходе после исполнения?\n",
    "Моя версия произошедшего(чекал в дебаге)  \n",
    "user.read() создает объект класса Zuzer, который в свою очередь инициализирует вызов класса User.\n",
    "класс User методом .read() вызывает классы родители, в которых есть данные методы по порядку. Последний (FParamsReader)\n",
    "вызывает родителя ParameterReader и далее на возврате происходят print - ы  \"F!\"; \"Time!\" ; \"User!\"\n"
   ]
  },
  {
   "cell_type": "code",
   "execution_count": 91,
   "metadata": {
    "tags": []
   },
   "outputs": [
    {
     "output_type": "stream",
     "name": "stdout",
     "text": "F!\nTime!\nUser!\n"
    }
   ],
   "source": [
    "class ParameterReader:\n",
    "    def read(self):\n",
    "        pass\n",
    "\n",
    "\n",
    "class TimeParamsReader(ParameterReader):\n",
    "    def read(self):\n",
    "        super().read()\n",
    "        print(\"Time!\")\n",
    "\n",
    "\n",
    "class FParamsReader (ParameterReader):\n",
    "    def read(self):\n",
    "        super().read()\n",
    "        print(\"F!\")\n",
    "\n",
    "\n",
    "class Dummy:\n",
    "    def dummy_method(self):\n",
    "        print(\"I'm dummy\")\n",
    "\n",
    "\n",
    "class User(TimeParamsReader, Dummy, FParamsReader):\n",
    "    def read(self):\n",
    "        super().read()\n",
    "        print(\"User!\")\n",
    "\n",
    "\n",
    "class ZUzer(User):\n",
    "    pass\n",
    "\n",
    "\n",
    "user = ZUzer()\n",
    "user.read()"
   ]
  },
  {
   "cell_type": "markdown",
   "metadata": {},
   "source": [
    "### 32. ​ Это правильный параметризованный декоратор?\n",
    "> True. Но это не точно.   \n",
    "https://pythonworld.ru/osnovy/dekoratory.html"
   ]
  },
  {
   "cell_type": "code",
   "execution_count": 93,
   "metadata": {},
   "outputs": [],
   "source": [
    "def decorator_factory(argument : bool):\n",
    "    def decorator(function):\n",
    "        def wrapper(*args, **kwargs):\n",
    "            preprocess()\n",
    "            process_argument(argument)\n",
    "            result - function(*args, **kwargs)\n",
    "            postprocess()\n",
    "            return result\n",
    "        return wrapper\n",
    "    return decorator\n"
   ]
  },
  {
   "cell_type": "markdown",
   "metadata": {},
   "source": [
    "### 33. ​ Рассмотрите следующий код и выберите правильный вывод.\n",
    "> Такая функция является блоком кода, который «закрывает» переменные nonlocal. Суть в том, что вы можете ссылать переменные, которые определены вне вашей функции. Обычно, nonlocal позволяет вам назначать переменные во внешней области, но не в глобальной. https://python-scripts.com/scope\n"
   ]
  },
  {
   "cell_type": "code",
   "execution_count": 94,
   "metadata": {
    "tags": []
   },
   "outputs": [
    {
     "output_type": "stream",
     "name": "stdout",
     "text": "AB\nABB\nABBB\n"
    }
   ],
   "source": [
    "def some_closure():\n",
    "    x = \"A\"\n",
    "\n",
    "    def some_func():\n",
    "        nonlocal x\n",
    "        x = x + 'B'\n",
    "        return x\n",
    "\n",
    "    return some_func\n",
    "\n",
    "f = some_closure()\n",
    "\n",
    "print(f())\n",
    "print(f())\n",
    "print(f())"
   ]
  },
  {
   "cell_type": "markdown",
   "metadata": {},
   "source": [
    "### 34. ​ Проанализируйте следующие классы и выберите правильный вывод этого кода.\n",
    "> Не разобрался до конца  \n",
    "Крч x через super и attr добирается до имени клсасса и идет с конца до нижнего подчеркивания и переводит в целочисленный тип данных.  \n",
    "Что - то наверное можно взять отсюда https://github.com/python-attrs/attrs  \n",
    "и https://habr.com/ru/post/186608/#intro"
   ]
  },
  {
   "cell_type": "code",
   "execution_count": 95,
   "metadata": {
    "tags": []
   },
   "outputs": [
    {
     "output_type": "stream",
     "name": "stdout",
     "text": "100 100 200\n"
    }
   ],
   "source": [
    "class Meta(type):\n",
    "    def __new__(cls, name, bases, dct):\n",
    "        x = super().__new__(cls, name, bases, dct)\n",
    "        x.attr = int(name.split('_')[-1])\n",
    "        return x\n",
    "\n",
    "\n",
    "class Foo_100(metaclass = Meta):\n",
    "    pass\n",
    "\n",
    "\n",
    "class Bar_200(metaclass = Meta):\n",
    "    pass    \n",
    "\n",
    "\n",
    "print(Foo_100.attr, Foo_100().attr, Bar_200.attr)\n",
    "\n"
   ]
  },
  {
   "cell_type": "markdown",
   "metadata": {},
   "source": [
    "### 35.  ​Выберите правильный вывод этого кода.\n",
    " > Работа с потоками python\n",
    "https://webdevblog.ru/vvedenie-v-potoki-v-python/  \n",
    "Не знаю в чем причина, но юпитер не выводит отлиженное на 2 сек print(\"Good bye!\").  \n",
    "Скопируйте код в простой файл питона и запустите.\n",
    "Правильный ответ в данном случае:  \n",
    "start  \n",
    "Hi!  \n",
    "stop  \n",
    "Good bye!\n",
    "\n",
    "\n"
   ]
  },
  {
   "cell_type": "code",
   "execution_count": 96,
   "metadata": {
    "tags": []
   },
   "outputs": [
    {
     "output_type": "stream",
     "name": "stdout",
     "text": "start\nHi!stop\n\n"
    }
   ],
   "source": [
    "import threading\n",
    "import time\n",
    "\n",
    "def thread_function():\n",
    "    print(\"Hi!\")\n",
    "    time.sleep(2)\n",
    "    print(\"Good bye!\")\n",
    "\n",
    "if __name__ == \"__main__\":\n",
    "    print(\"start\")\n",
    "    x = threading.Thread(target = thread_function)\n",
    "    x.start()\n",
    "    print(\"stop\")"
   ]
  },
  {
   "cell_type": "markdown",
   "metadata": {},
   "source": [
    "### 36.  ​ Использование нескольких потоков дает повышение производительности в следующем коде?\n",
    "\n",
    "> Не знаю правильного ответа. Mогу только ориентироваться на статью из 35 пункта.  \n",
    "Скорее не даст производительности.\n"
   ]
  },
  {
   "cell_type": "code",
   "execution_count": 97,
   "metadata": {
    "tags": []
   },
   "outputs": [
    {
     "output_type": "stream",
     "name": "stdout",
     "text": "587397005\n151715788566\n151844202790\n151972639679\n152101099235\n152229581460\n152358086356\n152486613925\n152615164169\n152743737090\n152872332690\n153000950971\n153129591935\n153258255584\n153386941920\n153515650945\n153644382661\n153773137070\n153901914174\n154030713975\n154159536475\n154288381676\n154417249580\n154546140189\n154675053505\n154803989530\n154932948266\n155061929715\n155190933879\n155319960760\n155449010360\n155578082681\n155707177725\n155836295494\n155965435990\n156094599215\n156223785171\n156352993860\n156482225284\n156611479445\n156740756345\n156870055986\n156999378370\n157128723499\n157258091375\n157387482000\n157516895376\n157646331505\n157775790389\n157905272030\n158034776430\n158164303591\n158293853515\n158423426204\n158553021660\n158682639885\n158812280881\n158941944650\n159071631194\n159201340515\n159331072615\n159460827496\n159590605160\n159720405609\n159850228845\n159980074870\n160109943686\n160239835295\n160369749699\n160499686900\n160629646900\n160759629701\n160889635305\n161019663714\n161149714930\n161279788955\n161409885791\n161540005440\n161670147904\n161800313185\n161930501285\n162060712206\n162190945950\n162321202519\n162451481915\n162581784140\n162712109196\n162842457085\n162972827809\n163103221370\n163233637770\n163364077011\n163494539095\n163625024024\n163755531800\n163886062425\n164016615901\n164147192230\n164277791414\n164408413455\n164539058355\n164669726116\n164800416740\n164931130229\n165061866585\n165192625810\n165323407906\n165454212875\n165585040719\n165715891440\n165846765040\n165977661521\n166108580885\n166239523134\n166370488270\n166501476295\n166632487211\n166763521020\n166894577724\n167025657325\n167156759825\n167287885226\n167419033530\n167550204739\n167681398855\n167812615880\n167943855816\n168075118665\n168206404429\n168337713110\n168469044710\n168600399231\n168731776675\n168863177044\n168994600340\n169126046565\n169257515721\n169389007810\n169520522834\n169652060795\n169783621695\n169915205536\n170046812320\n170178442049\n170310094725\n170441770350\n170573468926\n170705190455\n170836934939\n170968702380\n171100492780\n171232306141\n171364142465\n171496001754\n171627884010\n171759789235\n171891717431\n172023668600\n172155642744\n172287639865\n172419659965\n172551703046\n172683769110\n172815858159\n172947970195\n173080105220\n173212263236\n173344444245\n1734766482491123875250\n1126125250\n1128378251\n1130634255\n1132893264\n1135155280\n1137420305\n1139688341\n1141959390\n1144233454\n1146510535\n1148790635\n1151073756\n1153359900\n1155649069\n1157941265\n1160236490\n1162534746\n1164836035\n1167140359\n1169447720\n1171758120\n1174071561\n1176388045\n1178707574\n1181030150\n1183355775\n1185684451\n1188016180\n1190350964\n1192688805\n1195029705\n1197373666\n1199720690\n1202070779\n1204423935\n1206780160\n1209139456\n1211501825\n1213867269\n1216235790\n1218607390\n1220982071\n1223359835\n1225740684\n1228124620\n1230511645\n1232901761\n1235294970\n1237691274\n1240090675\n1242493175\n1244898776\n1247307480\n1249719289\n1252134205\n1254552230\n1256973366\n1259397615\n1261824979\n1264255460\n1266689060\n1269125781\n1271565625\n1274008594\n1276454690\n1278903915\n1281356271\n1283811760\n1286270384\n1288732145\n1291197045\n1293665086\n1296136270\n1298610599\n1301088075\n1303568700\n1306052476\n1308539405\n1311029489\n1313522730\n1316019130\n1318518691\n1321021415\n1323527304\n1326036360\n1328548585\n1331063981\n1333582550\n1336104294\n1338629215\n1341157315\n1343688596\n1346223060\n1348760709\n1351301545\n1353845570\n1356392786\n1358943195\n1361496799\n1364053600\n1366613600\n1369176801\n1371743205\n1374312814\n1376885630\n1379461655\n1382040891\n1384623340\n1387209004\n1389797885\n1392389985\n1394985306\n1397583850\n1400185619\n1402790615\n1405398840\n1408010296\n1410624985\n1413242909\n1415864070\n1418488470\n1421116111\n1423746995\n1426381124\n1429018500\n1431659125\n1434303001\n1436950130\n1439600514\n1442254155\n1444911055\n1447571216\n1450234640\n1452901329\n1455571285\n1458244510\n1460921006\n1463600775\n1466283819\n1468970140\n1471659740\n1474352621\n1477048785\n1479748234\n1482450970\n1485156995\n1487866311\n1490578920\n1493294824\n1496014025\n1498736525\n1501462326\n1504191430\n1506923839\n1509659555\n1512398580\n1515140916\n1517886565\n1520635529\n1523387810\n1526143410\n1528902331\n1531664575\n1534430144\n1537199040\n1539971265\n1542746821\n1545525710\n1548307934\n1551093495\n1553882395\n1556674636\n1559470220\n1562269149\n1565071425\n1567877050\n1570686026\n1573498355\n1576314039\n1579133080\n1581955480\n1584781241\n1587610365\n1590442854\n1593278710\n1596117935\n1598960531\n1601806500\n1604655844\n1607508565\n1610364665\n1613224146\n1616087010\n1618953259\n1621822895\n1624695920\n1627572336\n1630452145\n1633335349\n1636221950\n1639111950\n1642005351\n1644902155\n1647802364\n1650705980\n1653613005\n1656523441\n1659437290\n1662354554\n1665275235\n1668199335\n1671126856\n1674057800\n1676992169\n1679929965\n1682871190\n1685815846\n1688763935\n1691715459\n1694670420\n1697628820\n1700590661\n1703555945\n1706524674\n1709496850\n1712472475\n1715451551\n1718434080\n1721420064\n1724409505\n1727402405\n1730398766\n1733398590\n1736401879\n1739408635\n1742418860\n1745432556\n1748449725\n1751470369\n1754494490\n1757522090\n1760553171\n1763587735\n1766625784\n1769667320\n1772712345\n1775760861\n1778812870\n1781868374\n1784927375\n1787989875\n1791055876\n1794125380\n1797198389\n1800274905\n1803354930\n1806438466\n1809525515\n1812616079\n1815710160\n1818807760\n1821908881\n1825013525\n1828121694\n1831233390\n1834348615\n1837467371\n1840589660\n1843715484\n1846844845\n1849977745\n1853114186\n1856254170\n1859397699\n1862544775\n1865695400\n1868849576\n1872007305\n1875168589\n1878333430\n1881501830\n1884673791\n1887849315\n1891028404\n1894211060\n1897397285\n1900587081\n1903780450\n1906977394\n1910177915\n1913382015\n1916589696\n1919800960\n1923015809\n1926234245\n1929456270\n1932681886\n1935911095\n1939143899\n1942380300\n1945620300\n1948863901\n1952111105\n1955361914\n1958616330\n1961874355\n1965135991\n1968401240\n1971670104\n1974942585\n1978218685\n1981498406\n1984781750\n1988068719\n1991359315\n1994653540\n1997951396\n2001252885\n2004558009\n2007866770\n2011179170\n2014495211\n2017814895\n2021138224\n2024465200\n2027795825\n2031130101\n2034468030\n2037809614\n2041154855\n2044503755\n2047856316\n2051212540\n2054572429\n2057935985\n2061303210\n2064674106\n2068048675\n2071426919\n2074808840\n2078194440\n2081583721\n2084976685\n2088373334\n2091773670\n2095177695\n2098585411\n2101996820\n2105411924\n2108830725\n2112253225\n2115679426\n2119109330\n2122542939\n2125980255\n2129421280\n2132866016\n2136314465\n2139766629\n2143222510\n2146682110\n2150145431\n2153612475\n2157083244\n2160557740\n2164035965\n2167517921\n2171003610\n2174493034\n2177986195\n2181483095\n2184983736\n2188488120\n2191996249\n2195508125\n2199023750\n2202543126\n2206066255\n2209593139\n2213123780\n2216658180\n2220196341\n2223738265\n2227283954\n2230833410\n2234386635\n2237943631\n2241504400\n2245068944\n2248637265\n2252209365\n2255785246\n2259364910\n2262948359\n2266535595\n2270126620\n2273721436\n2277320045\n2280922449\n2284528650\n2288138650\n2291752451\n2295370055\n2298991464\n2302616680\n2306245705\n2309878541\n2313515190\n2317155654\n2320799935\n2324448035\n2328099956\n2331755700\n2335415269\n2339078665\n2342745890\n2346416946\n2350091835\n2353770559\n2357453120\n2361139520\n2364829761\n2368523845\n2372221774\n2375923550\n2379629175\n2383338651\n2387051980\n2390769164\n2394490205\n2398215105\n2401943866\n2405676490\n2409412979\n2413153335\n2416897560\n2420645656\n2424397625\n2428153469\n2431913190\n2435676790\n2439444271\n2443215635\n2446990884\n2450770020\n2454553045\n2458339961\n2462130770\n2465925474\n2469724075\n2473526575\n2477332976\n2481143280\n2484957489\n2488775605\n2492597630\n2496423566\n2500253415\n2504087179\n2507924860\n2511766460\n2515611981\n2519461425\n2523314794\n2527172090\n2531033315\n2534898471\n2538767560\n2542640584\n2546517545\n2550398445\n2554283286\n2558172070\n2562064799\n2565961475\n2569862100\n2573766676\n2577675205\n2581587689\n2585504130\n2589424530\n2593348891\n2597277215\n2601209504\n2605145760\n2609085985\n2613030181\n2616978350\n2620930494\n2624886615\n2628846715\n2632810796\n2636778860\n2640750909\n2644726945\n2648706970\n2652690986\n2656678995\n2660670999\n173608875250\n173741125250\n173873398251\n174005694255\n174138013264\n174270355280\n174402720305\n174535108341\n174667519390\n174799953454\n174932410535\n175064890635\n175197393756\n175329919900\n175462469069\n175595041265\n175727636490\n175860254746\n175992896035\n176125560359\n176258247720\n176390958120\n176523691561\n176656448045\n176789227574\n176922030150\n177054855775\n177187704451\n177320576180\n177453470964\n177586388805\n177719329705\n177852293666\n177985280690\n178118290779\n178251323935\n178384380160\n178517459456\n178650561825\n178783687269\n178916835790\n179050007390\n179183202071\n179316419835\n179449660684\n179582924620\n179716211645\n179849521761\n179982854970\n180116211274\n180249590675\n180382993175\n180516418776\n180649867480\n180783339289\n180916834205\n181050352230\n181183893366\n181317457615\n181451044979\n181584655460\n181718289060\n181851945781\n181985625625\n182119328594\n182253054690\n182386803915\n182520576271\n182654371760\n182788190384\n182922032145\n183055897045\n183189785086\n183323696270\n183457630599\n183591588075\n183725568700\n183859572476\n183993599405\n184127649489\n184261722730\n184395819130\n184529938691\n184664081415\n184798247304\n184932436360\n185066648585\n185200883981\n185335142550\n185469424294\n185603729215\n185738057315\n185872408596\n186006783060\n186141180709\n186275601545\n186410045570\n186544512786\n186679003195\n186813516799\n186948053600\n187082613600\n187217196801\n187351803205\n187486432814\n187621085630\n187755761655\n187890460891\n188025183340\n188159929004\n188294697885\n188429489985\n188564305306\n188699143850\n188834005619\n188968890615\n189103798840\n189238730296\n189373684985\n189508662909\n189643664070\n189778688470\n189913736111\n190048806995\n190183901124\n190319018500\n190454159125\n190589323001\n190724510130\n190859720514\n190994954155\n191130211055\n191265491216\n191400794640\n191536121329\n191671471285\n191806844510\n191942241006\n192077660775\n192213103819\n192348570140\n192484059740\n192619572621\n192755108785\n192890668234\n193026250970\n193161856995\n193297486311\n193433138920\n193568814824\n193704514025\n193840236525\n193975982326\n194111751430\n194247543839\n194383359555\n194519198580\n194655060916\n194790946565\n194926855529\n195062787810\n195198743410\n195334722331\n195470724575\n195606750144\n195742799040\n195878871265\n196014966821\n196151085710\n196287227934\n196423393495\n196559582395\n196695794636\n196832030220\n196968289149\n197104571425\n197240877050\n197377206026\n197513558355\n197649934039\n197786333080\n197922755480\n198059201241\n198195670365\n198332162854\n198468678710\n198605217935\n198741780531\n198878366500\n199014975844\n199151608565\n199288264665\n199424944146\n199561647010\n199698373259\n199835122895\n199971895920\n200108692336\n200245512145\n200382355349\n200519221950\n200656111950\n200793025351\n200929962155\n201066922364\n201203905980\n201340913005\n201477943441\n201614997290\n201752074554\n201889175235\n202026299335\n202163446856\n202300617800\n202437812169\n202575029965\n202712271190\n202849535846\n202986823935\n203124135459\n203261470420\n203398828820\n203536210661\n203673615945\n203811044674\n203948496850\n204085972475\n204223471551\n204360994080\n204498540064\n204636109505\n204773702405\n204911318766\n205048958590\n205186621879\n205324308635\n205462018860\n205599752556\n205737509725\n205875290369\n206013094490\n206150922090\n206288773171\n206426647735\n206564545784\n206702467320\n206840412345\n206978380861\n207116372870\n207254388374\n207392427375\n207530489875\n207668575876\n207806685380\n207944818389\n208082974905\n208221154930\n208359358466\n208497585515\n208635836079\n208774110160\n208912407760\n209050728881\n209189073525\n209327441694\n209465833390\n209604248615\n209742687371\n209881149660\n210019635484\n210158144845\n210296677745\n210435234186\n210573814170\n210712417699\n210851044775\n210989695400\n211128369576\n211267067305\n211405788589\n211544533430\n211683301830\n211822093791\n211960909315\n212099748404\n212238611060\n212377497285\n212516407081\n212655340450\n212794297394\n212933277915\n213072282015\n213211309696\n213350360960\n213489435809\n213628534245\n213767656270\n213906801886\n214045971095\n214185163899\n214324380300\n214463620300\n214602883901\n214742171105\n214881481914\n215020816330\n215160174355\n215299555991\n215438961240\n215578390104\n215717842585\n215857318685\n215996818406\n216136341750\n216275888719\n216415459315\n216555053540\n216694671396\n216834312885\n216973978009\n217113666770\n217253379170\n217393115211\n217532874895\n217672658224\n217812465200\n217952295825\n218092150101\n218232028030\n218371929614\n218511854855\n218651803755\n218791776316\n218931772540\n219071792429\n219211835985\n219351903210\n219491994106\n219632108675\n219772246919\n219912408840\n220052594440\n220192803721\n220333036685\n220473293334\n220613573670\n220753877695\n220894205411\n221034556820\n221174931924\n221315330725\n221455753225\n221596199426\n221736669330\n221877162939\n222017680255\n222158221280\n222298786016\n222439374465\n222579986629\n222720622510\n222861282110\n223001965431\n223142672475\n223283403244\n223424157740\n223564935965\n223705737921\n223846563610\n223987413034\n224128286195\n224269183095\n224410103736\n224551048120\n224692016249\n224833008125\n224974023750\n225115063126\n225256126255\n225397213139\n225538323780\n225679458180\n225820616341\n225961798265\n226103003954\n226244233410\n226385486635\n226526763631\n226668064400\n226809388944\n226950737265\n227092109365\n227233505246\n227374924910\n227516368359\n227657835595\n227799326620\n227940841436\n228082380045\n228223942449\n228365528650\n228507138650\n228648772451\n228790430055\n228932111464\n229073816680\n229215545705\n229357298541\n229499075190\n229640875654\n229782699935\n229924548035\n230066419956\n230208315700\n230350235269\n230492178665\n230634145890\n230776136946\n230918151835\n231060190559\n231202253120\n231344339520\n231486449761\n231628583845\n231770741774\n231912923550\n232055129175\n232197358651\n232339611980\n232481889164\n232624190205\n232766515105\n232908863866\n233051236490\n233193632979\n233336053335\n233478497560\n233620965656\n233763457625\n233905973469\n234048513190\n234191076790\n234333664271\n234476275635\n234618910884\n234761570020\n234904253045\n235046959961\n235189690770\n235332445474\n235475224075\n235618026575\n235760852976\n235903703280\n236046577489\n236189475605\n236332397630\n236475343566\n236618313415\n236761307179\n236904324860\n237047366460\n237190431981\n237333521425\n237476634794\n237619772090\n237762933315\n237906118471\n238049327560\n238192560584\n238335817545\n238479098445\n238622403286\n238765732070\n238909084799\n239052461475\n239195862100\n239339286676\n239482735205\n239626207689\n239769704130\n239913224530\n240056768891\n240200337215\n240343929504\n240487545760\n240631185985\n240774850181\n240918538350\n241062250494\n241205986615\n241349746715\n241493530796\n241637338860\n241781170909\n241925026945\n242068906970\n242212810986\n242356738995\nGood bye!\n\n2664667000\n2425006909992668667000\n\n2672671001\n2676679005\n2680691014\n2684707030\n2688727055\n2692751091\n2696779140\n2700811204\n2704847285\n2708887385\n2712931506\n2716979650\n2721031819\n2725088015\n2729148240\n2733212496\n2737280785\n2741353109\n2745429470\n2749509870\n2753594311\n2757682795\n2761775324\n2765871900\n2769972525\n2774077201\n2778185930\n2782298714\n2786415555\n2790536455\n2794661416\n2798790440\n2802923529\n2807060685\n2811201910\n2815347206\n2819496575\n2823650019\n2827807540\n2831969140\n2836134821\n2840304585\n2844478434\n2848656370\n2852838395\n2857024511\n2861214720\n2865409024\n2869607425\n2873809925\n2878016526\n2882227230\n2886442039\n2890660955\n2894883980\n2899111116\n2903342365\n2907577729\n2911817210\n2916060810\n2920308531\n2924560375\n2928816344\n2933076440\n2937340665\n2941609021\n2945881510\n2950158134\n2954438895\n2958723795\n2963012836\n2967306020\n2971603349\n2975904825\n2980210450\n2984520226\n2988834155\n2993152239\n2997474480\n3001800880\n3006131441\n3010466165\n3014805054\n3019148110\n3023495335\n3027846731\n3032202300\n3036562044\n3040925965242644667000\n3045294065\n3049666346\n3054042810\n3058423459\n3062808295\n3067197320\n3071590536\n3075987945\n3080389549\n3084795350\n3089205350\n3093619551\n3098037955\n3102460564\n3106887380\n242788667000\n242932691001\n243076739005\n243220811014\n243364907030\n243509027055\n243653171091\n243797339140\n243941531204\n244085747285\n244229987385\n244374251506\n244518539650\n244662851819\n244807188015\n244951548240\n245095932496\n245240340785\n245384773109\n245529229470\n245673709870\n245818214311\n245962742795\n\n246107295324\n246251871900\n246396472525\n246541097201\n246685745930\n246830418714\n246975115555\n247119836455\n247264581416\n247409350440\n247554143529\n247698960685\n247843801910\n247988667206\n248133556575\n248278470019\n248423407540\n248568369140\n248713354821\n248858364585\n249003398434\n249148456370\n249293538395\n249438644511\n249583774720\n249728929024\n249874107425\n250019309925\n250164536526\n3111318405\n3115753641\n3120193090\n3124636754\n3129084635\n3133536735\n3137993056\n3142453600\n3146918369\n3151387365\n3155860590\n2503097872303160338046\n3164819735\n3169305659\n3173795820\n3178290220\n3182788861\n3187291745\n3191798874\n3196310250\n3200825875\n3205345751\n3209869880\n3214398264\n3218930905\n3223467805\n3228008966\n3232554390\n3237104079\n3241658035\n3246216260\n3250778756\n3255345525\n3259916569\n3264491890\n3269071490\n3273655371\n3278243535\n3282835984\n3287432720\n3292033745\n3296639061\n3301248670\n3305862574\n3310480775\n3315103275\n3319730076\n3324361180\n3328996589\n3333636305\n\n3338280330\n3342928666\n3347581315\n3352238279\n3356899560\n3361565160\n3366235081\n3370909325\n3375587894\n3380270790\n3384958015\n3389649571\n3394345460\n3399045684\n3403750245\n3408459145\n3413172386\n3417889970\n3422611899250455062039\n250600360955\n250745683980\n250891031116\n251036402365\n251181797729\n251327217210\n251472660810\n251618128531\n251763620375\n251909136344\n252054676440\n252200240665\n252345829021\n252491441510\n252637078134\n252782738895\n252928423795\n253074132836\n\n253219866020\n253365623349\n253511404825\n253657210450\n253803040226\n253948894155\n254094772239\n254240674480\n254386600880\n254532551441\n254678526165\n254824525054\n254970548110\n255116595335\n255262666731\n255408762300\n255554882044\n255701025965\n255847194065\n255993386346\n256139602810\n256285843459\n256432108295\n256578397320\n256724710536\n256871047945\n257017409549\n257163795350\n257310205350\n257456639551\n257603097955\n257749580564\n257896087380\n258042618405\n258189173641\n258335753090\n258482356754\n258628984635\n258775636735\n258922313056\n259069013600\n259215738369\n259362487365\n259509260590\n259656058046\n259802879735\n259949725659\n260096595820\n260243490220\n260390408861\n2605373517453427338175\n3432068800\n3436803776\n3441543105\n3446286789\n3451034830\n3455787230\n3460543991\n3465305115\n3470070604\n3474840460\n3479614685\n3484393281\n3489176250\n3493963594\n3498755315\n3503551415\n3508351896\n3513156760\n3517966009\n3522779645\n3527597670\n3532420086\n3537246895\n3542078099\n3546913700\n3551753700\n3556598101\n3561446905\n3566300114\n3571157730\n3576019755\n3580886191\n3585757040\n3590632304\n3595511985\n3600396085\n3605284606\n3610177550\n3615074919\n260684318874\n260831310250\n260978325875\n261125365751\n261272429880\n261419518264\n261566630905\n261713767805\n261860928966\n262008114390\n262155324079\n262302558035\n262449816260\n262597098756\n262744405525\n262891736569\n263039091890\n263186471490\n263333875371\n263481303535\n263628755984\n263776232720\n263923733745\n264071259061\n264218808670\n264366382574\n264513980775\n264661603275\n264809250076\n264956921180\n265104616589\n265252336305\n265400080330\n265547848666\n265695641315\n265843458279\n265991299560\n266139165160\n\n266287055081\n266434969325\n266582907894\n266730870790\n266878858015\n267026869571\n267174905460\n267322965684\n267471050245\n267619159145\n267767292386\n2679154499703619976715\n3624882940\n3629793596\n3634708685\n3639628209\n3644552170\n3649480570\n3654413411\n3659350695\n3664292424\n3669238600\n3674189225\n3679144301\n3684103830\n3689067814\n3694036255\n3699009155\n3703986516\n3708968340\n\n268063631899\n268211838175\n268360068800\n268508323776\n268656603105\n268804906789\n268953234830\n269101587230\n269249963991\n269398365115\n269546790604\n269695240460\n269843714685\n269992213281\n270140736250\n270289283594\n270437855315\n270586451415\n2707350718963713954629\n3718945385\n3723940610\n3728940306\n3733944475\n3738953119\n3743966240\n3748983840\n3754005921\n3759032485\n3764063534\n3769099070\n3774139095\n3779183611\n3784232620\n3789286124\n3794344125\n3799406625\n3804473626\n3809545130\n3814621139\n3819701655\n3824786680\n3829876216\n3834970265\n3840068829\n3845171910\n3850279510\n3855391631\n3860508275\n3865629444\n3870755140\n3875885365\n3881020121\n3886159410\n3891303234\n3896451595\n3901604495\n3906761936\n3911923920\n3917090449\n3922261525\n3927437150\n3932617326\n3937802055\n3942991339\n3948185180\n3953383580\n3958586541\n3963794065\n3969006154\n3974222810\n3979444035\n3984669831\n3989900200\n3995135144\n4000374665\n4005618765\n4010867446\n4016120710\n4021378559\n4026640995\n4031908020\n4037179636\n4042455845"
    }
   ],
   "source": [
    "import threading\n",
    "\n",
    "def thread_function(a, b):\n",
    "    sum_of_squares = 0\n",
    "    for i in range(a, b):\n",
    "        sum_of_squares += i  * i\n",
    "        print(sum_of_squares)\n",
    "\n",
    "if __name__ == \"__main__\":\n",
    "    x = threading.Thread(target = thread_function, args = (1, 10000))\n",
    "    x.start()\n",
    "    y = threading.Thread(target = thread_function, args = (10000, 20000))\n",
    "    y.start()\n",
    "    "
   ]
  },
  {
   "cell_type": "markdown",
   "metadata": {},
   "source": [
    "### 37. Будет ли следующий код выводить список квадратов чисел?\n",
    "> Нет.  \n",
    ".map вызывает интересным образом функцию f (типо \"неявно\", не передавая элементов в нее). Поэтому список some_array не получает эл т.к. внутри функции аргумент x будет null.   \n",
    "Если бы  вместо some_array выводился squares то ответ был бы положительным."
   ]
  },
  {
   "cell_type": "code",
   "execution_count": 98,
   "metadata": {
    "tags": [
     "outputPrepend"
    ]
   },
   "outputs": [
    {
     "output_type": "stream",
     "name": "stdout",
     "text": "\n1984418875231\n1984783188800\n1985147540544\n1985511930465\n1985876358565\n1986240824846\n1986605329310\n1986969871959\n1987334452795\n1987699071820\n1988063729036\n1988428424445\n1988793158049\n1989157929850\n1989522739850\n1989887588051\n1990252474455\n1990617399064\n1990982361880\n1991347362905\n1991712402141\n1992077479590\n1992442595254\n1992807749135\n\n1993172941235\n1993538171556\n1993903440100\n1994268746869\n1994634091865\n1994999475090\n1995364896546\n1995730356235\n1996095854159\n1996461390320\n1996826964720\n1997192577361\n1997558228245\n1997923917374\n1998289644750\n1998655410375\n1999021214251\n1999387056380\n1999752936764\n2000118855405\n2000484812305\n2000850807466280990431211\n281079677020\n281168941724\n281258225325\n\n2001216840890281347527825\n281436849226\n\n2001582912579\n2001949022535\n2002315170760\n2002681357256\n2003047582025\n2003413845069\n2003780146390\n2004146485990\n2004512863871\n2004879280035\n2005245734484\n2005612227220\n2005978758245\n2006345327561\n2006711935170\n2007078581074\n2007445265275\n2007811987775\n2008178748576\n2008545547680\n2008912385089\n2009279260805\n2009646174830\n2010013127166\n2010380117815\n2010747146779281526189530\n\n281615548739\n281704926855\n281794323880\n281883739816\n281973174665\n282062628429\n282152101110\n282241592710\n282331103231\n282420632675\n282510181044\n282599748340\n282689334565\n282778939721\n282868563810\n282958206834\n283047868795\n283137549695\n283227249536\n283316968320\n283406706049\n283496462725\n283586238350\n283676032926\n283765846455\n283855678939\n283945530380\n284035400780\n284125290141\n284215198465\n284305125754\n284395072010\n284485037235\n284575021431\n284665024600\n284755046744\n284845087865\n284935147965\n285025227046\n285115325110\n285205442159\n285295578195\n285385733220\n285475907236\n285566100245\n285656312249\n285746543250\n285836793250\n2859270622512011114214060\n286017350255\n286107657264\n286197983280\n286288328305\n286378692341\n286469075390\n286559477454\n286649898535\n286740338635\n286830797756\n286921275900\n287011773069\n287102289265\n287192824490\n287283378746\n2011481319660\n2011848463581\n2012215645825\n2012582866394\n2012950125290\n2013317422515\n2013684758071\n2014052131960\n\n2873739520352014419544184\n\n2874645443592014786994745\n287555155720\n287645786120\n287736435561\n287827104045\n287917791574\n288008498150\n288099223775\n288189968451\n288280732180\n288371514964\n288462316805\n288553137705\n288643977666\n288734836690\n288825714779\n288916611935\n289007528160\n289098463456\n2015154483645\n289189417825\n289280391269\n289371383790\n289462395390\n289553426071\n289644475835\n289735544684\n289826632620\n289917739645\n290008865761\n290100010970\n290191175274\n290282358675\n290373561175\n290464782776\n290556023480\n290647283289\n290738562205\n290829860230\n290921177366\n291012513615\n291103868979\n291195243460\n291286637060\n291378049781\n291469481625\n291560932594\n291652402690\n291743891915\n291835400271\n291926927760\n292018474384\n292110040145\n292201625045\n292293229086\n292384852270\n292476494599\n292568156075\n292659836700\n292751536476\n292843255405\n292934993489\n293026750730\n293118527130\n293210322691\n293302137415\n293393971304\n293485824360\n293577696585\n293669587981\n293761498550\n293853428294\n293945377215\n294037345315\n294129332596\n294221339060\n294313364709\n294405409545\n294497473570\n2015522010886\n\n294589556786\n294681659195\n294773780799\n294865921600\n294958081600\n295050260801\n295142459205\n295234676814\n295326913630\n295419169655\n295511444891\n295603739340\n295696053004\n295788385885\n295880737985\n295973109306\n296065499850\n296157909619\n296250338615\n296342786840\n296435254296\n296527740985\n296620246909\n296712772070\n296805316470\n296897880111\n296990462995\n297083065124\n297175686500\n297268327125\n297360987001\n297453666130\n297546364514\n297639082155\n297731819055\n297824575216\n2979173506402015889576470\n298010145329\n298102959285\n298195792510\n298288645006\n298381516775\n298474407819\n298567318140\n298660247740\n298753196621\n298846164785\n298939152234\n299032158970\n299125184995\n299218230311\n299311294920\n299404378824\n299497482025\n299590604525\n299683746326\n299776907430\n299870087839\n299963287555\n300056506580\n300149744916\n300243002565\n300336279529\n300429575810\n300522891410\n300616226331\n300709580575\n300802954144\n300896347040\n300989759265\n301083190821\n301176641710\n301270111934\n301363601495\n301457110395\n301550638636\n301644186220\n301737753149\n301831339425\n301924945050\n302018570026\n302112214355\n302205878039\n302299561080\n302393263480\n302486985241\n302580726365\n302674486854\n302768266710\n302862065935\n302955884531\n303049722500\n303143579844\n303237456565\n303331352665\n303425268146\n303519203010\n303613157259\n303707130895\n303801123920\n303895136336\n303989168145\n304083219349\n304177289950\n304271379950\n304365489351\n304459618155\n304553766364\n304647933980\n304742121005\n304836327441\n304930553290\n305024798554\n\n2016257180399\n2016624822675\n2016992503300\n2017360222276\n2017727979605\n2018095775289\n2018463609330\n2018831481730\n2019199392491\n2019567341615\n2019935329104\n2020303354960\n2020671419185\n2021039521781\n2021407662750\n2021775842094\n2022144059815\n2022512315915\n2022880610396\n2023248943260\n2023617314509\n2023985724145\n2024354172170\n2024722658586305119063235\n305213347335\n2025091183395\n2025459746599\n2025828348200\n2026196988200\n2026565666601\n2026934383405\n2027303138614\n2027671932230\n2028040764255\n2028409634691\n2028778543540\n2029147490804\n2029516476485\n2029885500585\n2030254563106\n2030623664050\n2030992803419\n2031361981215\n2031731197440\n\n2032100452096\n2032469745185\n2032839076709\n2033208446670\n2033577855070\n2033947301911\n2034316787195\n2034686310924\n2035055873100\n2035425473725\n2035795112801\n2036164790330\n2036534506314\n2036904260755\n2037274053655\n2037643885016\n2038013754840\n2038383663129\n2038753609885\n2039123595110\n2039493618806\n2039863680975\n2040233781619\n2040603920740\n2040974098340\n2041344314421\n2041714568985\n2042084862034\n2042455193570\n2042825563595\n2043195972111\n2043566419120\n2043936904624\n2044307428625\n2044677991125\n2045048592126\n2045419231630\n2045789909639\n2046160626155\n2046531381180\n2046902174716\n2047273006765\n2047643877329\n2048014786410\n2048385734010\n2048756720131\n2049127744775\n2049498807944\n2049869909640\n2050241049865\n2050612228621\n2050983445910\n2051354701734\n2051725996095\n2052097328995\n2052468700436\n2052840110420\n2053211558949\n2053583046025\n2053954571650\n2054326135826\n2054697738555\n2055069379839\n2055441059680305307650856\n305401973800\n305496316169\n305590677965\n305685059190\n305779459846\n305873879935\n305968319459\n306062778420\n306157256820\n306251754661\n306346271945\n306440808674\n306535364850\n306629940475\n306724535551\n306819150080\n306913784064\n307008437505\n307103110405\n307197802766\n307292514590\n307387245879\n307481996635\n307576766860\n307671556556\n307766365725\n307861194369\n307956042490\n308050910090\n308145797171\n308240703735\n308335629784\n308430575320\n308525540345\n308620524861\n308715528870\n308810552374\n308905595375\n309000657875\n309095739876\n309190841380\n309285962389\n\n3093811029052055812778080\n2056184535041\n2056556330565\n2056928164654\n2057300037310\n\n309476262930\n309571442466\n309666641515\n309761860079\n309857098160\n309952355760\n310047632881\n310142929525\n310238245694\n310333581390\n310428936615\n310524311371\n310619705660\n310715119484\n310810552845\n310906005745\n311001478186\n311096970170\n311192481699\n311288012775\n311383563400\n311479133576\n311574723305\n311670332589\n311765961430\n311861609830\n311957277791\n312052965315\n312148672404\n312244399060\n312340145285\n2057671948535312435911081\n312531696450\n312627501394\n312723325915\n312819170015\n312915033696\n313010916960\n313106819809\n313202742245\n313298684270\n313394645886\n2058043898331\n2058415886700\n2058787913644\n2059159979165\n2059532083265\n2059904225946\n2060276407210\n2060648627059\n2061020885495\n2061393182520\n2061765518136\n2062137892345\n2062510305149\n2062882756550\n2063255246550\n2063627775151\n2064000342355\n2064372948164\n2064745592580\n2065118275605\n2065490997241\n2065863757490\n2066236556354\n2066609393835\n2066982269935\n2067355184656\n2067728138000\n2068101129969\n2068474160565\n2068847229790\n2069220337646\n\n3134906270952069593484135\n\n2069966669259313586627899\n\n2070339893020313682648300\n313778688300\n313874747901\n2070713155420\n\n313970827105\n2071086456461\n2071459796145\n2071833174474\n2072206591450314066925914\n\n2072580047075\n2072953541351\n2073327074280\n2073700645864\n2074074256105\n2074447905005\n2074821592566\n2075195318790\n2075569083679\n2075942887235\n2076316729460\n2076690610356\n2077064529925\n2077438488169\n2077812485090\n2078186520690\n2078560594971\n2078934707935\n2079308859584\n2079683049920\n2080057278945\n2080431546661\n2080805853070\n2081180198174\n2081554581975\n2081929004475\n2082303465676\n2082677965580\n2083052504189\n2083427081505\n2083801697530\n2084176352266\n2084551045715\n2084925777879\n2085300548760\n2085675358360\n314163044330\n314259182355\n314355339991\n314451517240\n314547714104\n314643930585\n314740166685\n314836422406\n314932697750\n315028992719\n315125307315\n315221641540\n315317995396\n315414368885\n315510762009\n315607174770\n3157036071702086050206681\n2086425093725\n2086800019494\n2087174983990\n\n2087549987215\n2087925029171\n2088300109860\n2088675229284\n2089050387445\n2089425584345\n2089800819986\n2090176094370\n2090551407499\n2090926759375\n2091302150000\n2091677579376\n2092053047505\n2092428554389\n2092804100030\n2093179684430\n2093555307591\n2093930969515\n2094306670204\n2094682409660\n2095058187885\n2095434004881\n2095809860650\n2096185755194\n2096561688515\n2096937660615\n2097313671496\n2097689721160\n2098065809609\n2098441936845\n2098818102870\n2099194307686\n2099570551295\n2099946833699\n2100323154900\n2100699514900\n2101075913701\n2101452351305\n2101828827714\n2102205342930\n2102581896955\n2102958489791\n2103335121440\n2103711791904\n2104088501185\n2104465249285\n2104842036206\n2105218861950\n2105595726519\n3158000592112105972629915\n2106349572140\n2106726553196\n2107103573085\n2107480631809\n2107857729370\n2108234865770\n2108612041011\n2108989255095\n2109366508024\n2109743799800\n2110121130425\n2110498499901\n2110875908230\n2111253355414\n2111630841455\n2112008366355\n\n315896530895\n315993022224\n316089533200\n316186063825\n316282614101\n316379184030\n316475773614\n316572382855\n316669011755\n316765660316\n316862328540\n316959016429\n317055723985\n317152451210\n317249198106\n317345964675\n317442750919\n317539556840\n317636382440\n3177332277212112385930116\n317830092685\n317926977334\n2112763532740\n2113141174229\n2113518854585\n2113896573810\n2114274331906\n2114652128875\n2115029964719\n2115407839440\n2115785753040\n2116163705521\n2116541696885\n2116919727134\n2117297796270\n2117675904295\n2118054051211\n2118432237020\n318023881670\n318120805695\n318217749411\n318314712820\n318411695924\n318508698725\n318605721225\n318702763426\n318799825330\n318896906939\n318994008255\n319091129280\n319188270016\n319285430465\n319382610629\n319479810510\n319577030110\n319674269431\n319771528475\n319868807244\n319966105740\n320063423965\n320160761921\n320258119610\n320355497034\n320452894195\n320550311095\n320647747736\n320745204120\n320842680249\n320940176125\n321037691750\n321135227126\n321232782255\n321330357139\n321427951780\n321525566180\n321623200341\n321720854265\n321818527954\n321916221410\n\n2118810461724\n2119188725325\n2119567027825\n2119945369226\n2120323749530\n2120702168739\n2121080626855\n2121459123880\n2121837659816\n2122216234665\n2122594848429322013934635\n2122973501110\n2123352192710\n2123730923231\n2124109692675\n2124488501044\n2124867348340\n2125246234565\n2125625159721\n2126004123810\n2126383126834\n322111667631\n322209420400\n322307192944\n322404985265\n322502797365\n322600629246\n322698480910\n322796352359\n322894243595\n322992154620\n323090085436\n323188036045\n323286006449\n323383996650\n323482006650\n323580036451\n323678086055\n\n2126762168795\n2127141249695\n2127520369536\n2127899528320\n2128278726049\n2128657962725\n2129037238350\n2129416552926\n2129795906455\n2130175298939\n2130554730380\n2130934200780\n2131313710141\n2131693258465\n2132072845754\n2132452472010\n2132832137235\n2133211841431\n2133591584600\n2133971366744\n2134351187865\n2134731047965\n2135110947046\n2135490885110\n2135870862159\n2136250878195\n2136630933220\n2137011027236\n2137391160245\n2137771332249\n2138151543250\n2138531793250\n2138912082251\n2139292410255\n2139672777264\n2140053183280\n2140433628305\n2140814112341\n2141194635390\n323776155464\n2141575197454\n2141955798535\n2142336438635\n323874244680\n323972353705\n324070482541\n324168631190\n324266799654\n324364987935\n324463196035\n324561423956\n324659671700\n324757939269\n324856226665\n324954533890\n325052860946\n325151207835\n325249574559\n325347961120\n325446367520\n325544793761\n325643239845\n325741705774\n325840191550\n325938697175\n326037222651\n326135767980\n326234333164\n326332918205\n326431523105\n326530147866\n326628792490\n326727456979\n326826141335\n326924845560\n327023569656\n327122313625\n327221077469\n327319861190\n327418664790\n327517488271\n327616331635\n327715194884\n327814078020\n327912981045\n328011903961\n328110846770\n328209809474\n328308792075\n328407794575\n328506816976\n328605859280\n328704921489\n328804003605\n328903105630\n329002227566\n329101369415\n329200531179\n2142717117756329299712860\n329398914460\n329498135981\n329597377425\n329696638794\n329795920090\n329895221315\n2143097835900\n2143478593069\n2143859389265\n2144240224490\n2144621098746\n2145002012035\n2145382964359\n2145763955720\n2146144986120\n2146526055561\n2146907164045\n2147288311574\n2147669498150\n2148050723775\n2148431988451\n2148813292180\n2149194634964\n2149576016805\n2149957437705\n2150338897666\n2150720396690\n2151101934779\n2151483511935\n2151865128160\n2152246783456\n2152628477825\n2153010211269\n2153391983790\n2153773795390\n2154155646071\n2154537535835\n2154919464684\n2155301432620\n2155683439645\n2156065485761\n2156447570970\n2156829695274\n2157211858675\n2157594061175\n2157976302776\n\n2158358583480\n2158740903289\n2159123262205\n2159505660230\n2159888097366\n2160270573615\n2160653088979\n2161035643460\n2161418237060\n2161800869781\n2162183541625\n2162566252594\n2162949002690\n2163331791915\n2163714620271\n2164097487760\n2164480394384\n2164863340145\n2165246325045\n2165629349086\n2166012412270\n2166395514599\n2166778656075\n2167161836700\n2167545056476\n2167928315405\n2168311613489\n2168694950730\n2169078327130\n2169461742691\n2169845197415\n2170228691304\n2170612224360\n2170995796585\n2171379407981\n2171763058550\n2172146748294329994542471\n2172530477215\n330093883560\n330193244584\n330292625545\n330392026445\n330491447286\n330590888070\n330690348799\n330789829475\n330889330100\n330988850676\n2172914245315\n2173298052596\n2173681899060\n2174065784709\n2174449709545\n2174833673570\n2175217676786\n2175601719195\n2175985800799\n2176369921600\n2176754081600\n2177138280801\n2177522519205\n2177906796814\n2178291113630\n2178675469655\n2179059864891\n2179444299340\n2179828773004\n2180213285885\n2180597837985\n2180982429306\n2181367059850\n2181751729619\n2182136438615\n2182521186840\n2182905974296\n2183290800985\n2183675666909\n2184060572070\n2184445516470\n2184830500111\n2185215522995\n2185600585124\n2185985686500\n2186370827125\n2186756007001\n2187141226130\n2187526484514\n2187911782155\n2188297119055\n2188682495216\n331088391205\n\n2189067910640\n2189453365329\n2189838859285\n2190224392510\n2190609965006\n2190995576775\n2191381227819\n2191766918140\n2192152647740\n2192538416621\n2192924224785\n2193310072234\n2193695958970\n2194081884995\n2194467850311\n2194853854920\n2195239898824\n2195625982025\n2196012104525\n2196398266326\n2196784467430\n2197170707839\n2197556987555\n2197943306580\n2198329664916\n2198716062565331187951689\n2199102499529\n2199488975810\n2199875491410\n2200262046331\n2200648640575\n2201035274144\n2201421947040\n2201808659265\n2202195410821\n2202582201710\n2202969031934\n2203355901495\n2203742810395\n2204129758636\n2204516746220\n2204903773149\n2205290839425\n2205677945050\n331287532130\n331387132530\n331486752891\n331586393215\n331686053504\n331785733760\n331885433985\n331985154181\n332084894350\n332184654494\n332284434615\n332384234715\n332484054796\n332583894860\n332683754909\n332783634945\n332883534970\n332983454986\n333083394995\n333183354999\n333283335000\n\n2206065090026\n2206452274355\n2206839498039\n2207226761080\n2207614063480\n2208001405241\n2208388786365\n2208776206854\n2209163666710\n2209551165935\n2209938704531\n2210326282500\n2210713899844\n2211101556565\n2211489252665\n2211876988146\n2212264763010\n2212652577259\n2213040430895\n2213428323920\n2213816256336\n2214204228145\n2214592239349\n2214980289950\n2215368379950\n2215756509351\n2216144678155\n2216532886364\n2216921133980\n2217309421005\n2217697747441\n2218086113290\n2218474518554\n2218862963235\n2219251447335\n2219639970856\n2220028533800\n2220417136169\n2220805777965\n2221194459190\n2221583179846\n2221971939935\n2222360739459\n2222749578420\n2223138456820\n2223527374661\n2223916331945\n2224305328674\n2224694364850\n2225083440475\n2225472555551\n2225861710080\n2226250904064\n2226640137505\n2227029410405\n2227418722766\n2227808074590\n2228197465879\n2228586896635\n2228976366860\n2229365876556\n2229755425725\n2230145014369\n2230534642490\n2230924310090\n2231314017171\n2231703763735\n2232093549784\n2232483375320\n2232873240345\n2233263144861\n2233653088870\n2234043072374\n2234433095375\n2234823157875\n2235213259876\n2235603401380\n2235993582389\n2236383802905\n2236774062930\n2237164362466\n2237554701515\n2237945080079\n2238335498160\n2238725955760\n2239116452881\n2239506989525\n2239897565694\n2240288181390\n2240678836615\n2241069531371\n2241460265660\n2241851039484\n2242241852845\n2242632705745\n2243023598186\n2243414530170\n2243805501699\n2244196512775\n2244587563400\n2244978653576\n2245369783305\n2245760952589\n2246152161430\n2246543409830\n2246934697791\n2247326025315\n2247717392404\n2248108799060\n2248500245285\n2248891731081\n2249283256450\n2249674821394\n2250066425915\n2250458070015\n2250849753696\n2251241476960\n2251633239809\n2252025042245\n2252416884270\n2252808765886\n2253200687095\n2253592647899\n2253984648300\n2254376688300\n2254768767901\n2255160887105\n2255553045914\n2255945244330\n2256337482355\n2256729759991\n2257122077240\n2257514434104\n2257906830585\n2258299266685\n2258691742406\n2259084257750\n2259476812719\n2259869407315\n2260262041540\n2260654715396\n2261047428885\n2261440182009\n2261832974770\n2262225807170\n2262618679211\n2263011590895\n2263404542224\n2263797533200\n2264190563825\n2264583634101\n2264976744030\n2265369893614\n2265763082855\n2266156311755\n2266549580316\n2266942888540\n2267336236429\n2267729623985\n2268123051210\n2268516518106\n2268910024675\n2269303570919\n2269697156840\n2270090782440\n2270484447721\n2270878152685\n2271271897334\n2271665681670\n2272059505695\n2272453369411\n2272847272820\n2273241215924\n2273635198725\n2274029221225\n2274423283426\n2274817385330\n2275211526939\n2275605708255\n2275999929280\n2276394190016\n2276788490465\n2277182830629\n2277577210510\n2277971630110\n2278366089431\n2278760588475\n2279155127244\n2279549705740\n2279944323965\n2280338981921\n2280733679610\n2281128417034\n2281523194195\n2281918011095\n2282312867736\n2282707764120\n2283102700249\n2283497676125\n2283892691750\n2284287747126\n2284682842255\n2285077977139\n2285473151780\n2285868366180\n2286263620341\n2286658914265\n2287054247954\n2287449621410\n2287845034635\n2288240487631\n2288635980400\n2289031512944\n2289427085265\n2289822697365\n2290218349246\n2290614040910\n2291009772359\n2291405543595\n2291801354620\n2292197205436\n2292593096045\n2292989026449\n2293384996650\n2293781006650\n2294177056451\n2294573146055\n2294969275464\n2295365444680\n2295761653705\n2296157902541\n2296554191190\n2296950519654\n2297346887935\n2297743296035\n2298139743956\n2298536231700\n2298932759269\n2299329326665\n2299725933890\n2300122580946\n2300519267835\n2300915994559\n2301312761120\n2301709567520\n2302106413761\n2302503299845\n2302900225774\n2303297191550\n2303694197175\n2304091242651\n2304488327980\n2304885453164\n2305282618205\n2305679823105\n2306077067866\n2306474352490\n2306871676979\n2307269041335\n2307666445560\n2308063889656\n2308461373625\n2308858897469\n2309256461190\n2309654064790\n2310051708271\n2310449391635\n2310847114884\n2311244878020\n2311642681045\n2312040523961\n2312438406770\n2312836329474\n2313234292075\n2313632294575\n2314030336976\n2314428419280\n2314826541489\n2315224703605\n2315622905630\n2316021147566\n2316419429415\n2316817751179\n2317216112860\n2317614514460\n2318012955981\n2318411437425\n2318809958794\n2319208520090\n2319607121315\n2320005762471\n2320404443560\n2320803164584\n2321201925545\n2321600726445\n2321999567286\n2322398448070\n2322797368799\n2323196329475\n2323595330100\n2323994370676\n2324393451205\n2324792571689\n2325191732130\n2325590932530\n2325990172891\n2326389453215\n2326788773504\n2327188133760\n2327587533985\n2327986974181\n2328386454350\n2328785974494\n2329185534615\n2329585134715\n2329984774796\n2330384454860\n2330784174909\n2331183934945\n2331583734970\n2331983574986\n2332383454995\n2332783374999\n2333183335000\n"
    }
   ],
   "source": [
    "from multiprocessing import Pool\n",
    "\n",
    "some_array = []\n",
    "\n",
    "def f(x):\n",
    "    some_array.append(x * x)\n",
    "    return x * x\n",
    "\n",
    "p = Pool(5)\n",
    "squares = p.map(f, list(range(100000)))\n",
    "\n",
    "# print(squares)\n",
    "print(some_array)"
   ]
  },
  {
   "cell_type": "markdown",
   "metadata": {},
   "source": [
    "### 38.  ​ Выберите правильную последовательность вызываемых методов в следующем коде.\n",
    "> new, init ,call  \n",
    "https://habr.com/ru/post/186608/#intro - магические методы (есть про new и init).  \n",
    "https://pythonz.net/references/named/object.__len__/ (len)  \n",
    "https://pythonz.net/references/named/object.__call__/ (call)  \n",
    "https://pythonz.net/references/named/object.__iter__/ (iter)  \n",
    "Также смотрел последовательность вызовов в дебагере. (если убрать вторую пару скобок, то call не будет вызван)"
   ]
  },
  {
   "cell_type": "code",
   "execution_count": 99,
   "metadata": {
    "tags": []
   },
   "outputs": [
    {
     "output_type": "stream",
     "name": "stdout",
     "text": "KU!\n"
    }
   ],
   "source": [
    "class Foo:\n",
    "    def __init__(self):\n",
    "        pass\n",
    "\n",
    "    def __new__(cls, *args, **kwargs):\n",
    "        instance = super(Foo, cls).__new__(cls, *args, **kwargs)\n",
    "        return instance\n",
    "\n",
    "    def __call__(self, *args, **kwargs):\n",
    "        print('KU!')\n",
    "\n",
    "    def __len__(self):\n",
    "        return len(self.__dict__)\n",
    "\n",
    "    def __iter__(self):\n",
    "        pass\n",
    "\n",
    "Foo()()"
   ]
  },
  {
   "cell_type": "markdown",
   "metadata": {},
   "source": [
    "### 39. ​ \n",
    "### Рассмотрим следующий код и выберите все функции, которые выполняют поиск общих чисел,    меньших O (N * log (N)). \n",
    "\n",
    "> Ответ не очевиден. \n",
    "Вспоминаем АиСД\n",
    "Предположительно ответ merge2"
   ]
  },
  {
   "cell_type": "code",
   "execution_count": 100,
   "metadata": {},
   "outputs": [],
   "source": [
    "import random\n",
    "import timeit\n",
    "\n",
    "_len = 10000\n",
    "\n",
    "a = [random.randint(1, 100000) for _ in range(_len)]\n",
    "b = [random.randint(1, 100000) for _ in range(_len)]\n",
    "\n",
    "merge = lambda a, b:  [i for i in a + b if i in a and i in b]\n",
    "\n",
    "merge1 = lambda a, b:  [i for i in a if i in b]\n",
    "\n",
    "merge2 = lambda a, b:  list(set(a) & set(b))\n",
    "\n",
    "merge3 = lambda a, b:  [i for i in a if i in set(b)]\n",
    "\n",
    "def merge4(a, b):\n",
    "    set_b = set(b)\n",
    "    return [i for i in a if i in set_b]\n",
    "    "
   ]
  },
  {
   "cell_type": "markdown",
   "metadata": {},
   "source": [
    "### 40. ​ Будет ли следующий код выводить первую строку «foo» и после этой строки «bar»?\n",
    "> И снова юпитер не может правильно отработать.  \n",
    "Вывод данного кода в простом py файле таков:  \n",
    "bar  \n",
    "foo    \n",
    "обосновать не могу."
   ]
  },
  {
   "cell_type": "code",
   "execution_count": 101,
   "metadata": {
    "tags": []
   },
   "outputs": [
    {
     "output_type": "error",
     "ename": "RuntimeError",
     "evalue": "This event loop is already running",
     "traceback": [
      "\u001b[0;31m---------------------------------------------------------------------------\u001b[0m",
      "\u001b[0;31mRuntimeError\u001b[0m                              Traceback (most recent call last)",
      "\u001b[0;32m<ipython-input-101-3983b939d908>\u001b[0m in \u001b[0;36m<module>\u001b[0;34m\u001b[0m\n\u001b[1;32m     12\u001b[0m \u001b[0;34m\u001b[0m\u001b[0m\n\u001b[1;32m     13\u001b[0m \u001b[0mloop\u001b[0m \u001b[0;34m=\u001b[0m \u001b[0masyncio\u001b[0m\u001b[0;34m.\u001b[0m\u001b[0mget_event_loop\u001b[0m\u001b[0;34m(\u001b[0m\u001b[0;34m)\u001b[0m\u001b[0;34m\u001b[0m\u001b[0;34m\u001b[0m\u001b[0m\n\u001b[0;32m---> 14\u001b[0;31m \u001b[0mloop\u001b[0m\u001b[0;34m.\u001b[0m\u001b[0mrun_until_complete\u001b[0m\u001b[0;34m(\u001b[0m\u001b[0masyncio\u001b[0m\u001b[0;34m.\u001b[0m\u001b[0mwait\u001b[0m\u001b[0;34m(\u001b[0m\u001b[0;34m[\u001b[0m\u001b[0mfoo\u001b[0m\u001b[0;34m(\u001b[0m\u001b[0;34m)\u001b[0m\u001b[0;34m,\u001b[0m \u001b[0mbar\u001b[0m\u001b[0;34m(\u001b[0m\u001b[0;34m)\u001b[0m\u001b[0;34m]\u001b[0m\u001b[0;34m)\u001b[0m\u001b[0;34m)\u001b[0m\u001b[0;34m\u001b[0m\u001b[0;34m\u001b[0m\u001b[0m\n\u001b[0m\u001b[1;32m     15\u001b[0m \u001b[0mloop\u001b[0m\u001b[0;34m.\u001b[0m\u001b[0mclose\u001b[0m\u001b[0;34m(\u001b[0m\u001b[0;34m)\u001b[0m\u001b[0;34m\u001b[0m\u001b[0;34m\u001b[0m\u001b[0m\n",
      "\u001b[0;32m~/anaconda3/lib/python3.7/asyncio/base_events.py\u001b[0m in \u001b[0;36mrun_until_complete\u001b[0;34m(self, future)\u001b[0m\n\u001b[1;32m    569\u001b[0m         \u001b[0mfuture\u001b[0m\u001b[0;34m.\u001b[0m\u001b[0madd_done_callback\u001b[0m\u001b[0;34m(\u001b[0m\u001b[0m_run_until_complete_cb\u001b[0m\u001b[0;34m)\u001b[0m\u001b[0;34m\u001b[0m\u001b[0;34m\u001b[0m\u001b[0m\n\u001b[1;32m    570\u001b[0m         \u001b[0;32mtry\u001b[0m\u001b[0;34m:\u001b[0m\u001b[0;34m\u001b[0m\u001b[0;34m\u001b[0m\u001b[0m\n\u001b[0;32m--> 571\u001b[0;31m             \u001b[0mself\u001b[0m\u001b[0;34m.\u001b[0m\u001b[0mrun_forever\u001b[0m\u001b[0;34m(\u001b[0m\u001b[0;34m)\u001b[0m\u001b[0;34m\u001b[0m\u001b[0;34m\u001b[0m\u001b[0m\n\u001b[0m\u001b[1;32m    572\u001b[0m         \u001b[0;32mexcept\u001b[0m\u001b[0;34m:\u001b[0m\u001b[0;34m\u001b[0m\u001b[0;34m\u001b[0m\u001b[0m\n\u001b[1;32m    573\u001b[0m             \u001b[0;32mif\u001b[0m \u001b[0mnew_task\u001b[0m \u001b[0;32mand\u001b[0m \u001b[0mfuture\u001b[0m\u001b[0;34m.\u001b[0m\u001b[0mdone\u001b[0m\u001b[0;34m(\u001b[0m\u001b[0;34m)\u001b[0m \u001b[0;32mand\u001b[0m \u001b[0;32mnot\u001b[0m \u001b[0mfuture\u001b[0m\u001b[0;34m.\u001b[0m\u001b[0mcancelled\u001b[0m\u001b[0;34m(\u001b[0m\u001b[0;34m)\u001b[0m\u001b[0;34m:\u001b[0m\u001b[0;34m\u001b[0m\u001b[0;34m\u001b[0m\u001b[0m\n",
      "\u001b[0;32m~/anaconda3/lib/python3.7/asyncio/base_events.py\u001b[0m in \u001b[0;36mrun_forever\u001b[0;34m(self)\u001b[0m\n\u001b[1;32m    524\u001b[0m         \u001b[0mself\u001b[0m\u001b[0;34m.\u001b[0m\u001b[0m_check_closed\u001b[0m\u001b[0;34m(\u001b[0m\u001b[0;34m)\u001b[0m\u001b[0;34m\u001b[0m\u001b[0;34m\u001b[0m\u001b[0m\n\u001b[1;32m    525\u001b[0m         \u001b[0;32mif\u001b[0m \u001b[0mself\u001b[0m\u001b[0;34m.\u001b[0m\u001b[0mis_running\u001b[0m\u001b[0;34m(\u001b[0m\u001b[0;34m)\u001b[0m\u001b[0;34m:\u001b[0m\u001b[0;34m\u001b[0m\u001b[0;34m\u001b[0m\u001b[0m\n\u001b[0;32m--> 526\u001b[0;31m             \u001b[0;32mraise\u001b[0m \u001b[0mRuntimeError\u001b[0m\u001b[0;34m(\u001b[0m\u001b[0;34m'This event loop is already running'\u001b[0m\u001b[0;34m)\u001b[0m\u001b[0;34m\u001b[0m\u001b[0;34m\u001b[0m\u001b[0m\n\u001b[0m\u001b[1;32m    527\u001b[0m         \u001b[0;32mif\u001b[0m \u001b[0mevents\u001b[0m\u001b[0;34m.\u001b[0m\u001b[0m_get_running_loop\u001b[0m\u001b[0;34m(\u001b[0m\u001b[0;34m)\u001b[0m \u001b[0;32mis\u001b[0m \u001b[0;32mnot\u001b[0m \u001b[0;32mNone\u001b[0m\u001b[0;34m:\u001b[0m\u001b[0;34m\u001b[0m\u001b[0;34m\u001b[0m\u001b[0m\n\u001b[1;32m    528\u001b[0m             raise RuntimeError(\n",
      "\u001b[0;31mRuntimeError\u001b[0m: This event loop is already running"
     ]
    }
   ],
   "source": [
    "import asyncio\n",
    "\n",
    "async def say_after(delay, what):\n",
    "    await asyncio.sleep(delay)\n",
    "    print(what)\n",
    "\n",
    "async def foo():\n",
    "    await say_after(2, 'foo')\n",
    "\n",
    "async def bar():\n",
    "    await say_after(1, 'bar')\n",
    "\n",
    "loop = asyncio.get_event_loop()\n",
    "loop.run_until_complete(asyncio.wait([foo(), bar()]))\n",
    "loop.close()"
   ]
  },
  {
   "cell_type": "markdown",
   "metadata": {},
   "source": [
    "### 41. ​ Рассмотрим следующий код. Сколько записей будет в приведенном списке «Filter_values»? \n",
    "> 3\n"
   ]
  },
  {
   "cell_type": "code",
   "execution_count": 102,
   "metadata": {
    "tags": []
   },
   "outputs": [
    {
     "output_type": "stream",
     "name": "stdout",
     "text": "3\n"
    }
   ],
   "source": [
    "def form_filter(name=None, date=None, sex=None):\n",
    "    filter_params = {}\n",
    "\n",
    "    if name:\n",
    "        filter_params['name'] = name\n",
    "\n",
    "    if date:\n",
    "        filter_params['date'] = date\n",
    "\n",
    "    if sex:\n",
    "        filter_params['sex'] = sex\n",
    "\n",
    "    return filter_params\n",
    "\n",
    "\n",
    "def filter_values_by_filter(values_to_filter, filter_params):\n",
    "    ret = []\n",
    "    for v in values_to_filter:\n",
    "        if all(filter_params.get(f) == v.get(f) for f in filter_params):\n",
    "            ret.append(v)\n",
    "    return ret\n",
    "\n",
    "\n",
    "values = [\n",
    "    {\"name\": \"santa\", \"date\": \"10/10/2010\", \"sex\": \"male\"},\n",
    "    {\"name\": \"miki_maus\", \"date\": \"10/10/2010\", \"sex\": \"male\"},\n",
    "    {\"name\": \"john_doe\", \"date\": \"10/11/2010\", \"sex\": \"male\"},\n",
    "    {\"name\": \"john_doe\", \"date\": \"10/10/2010\", \"sex\": \"male\"},\n",
    "    {\"name\": \"john_doe\", \"date\": \"10/10/2010\", \"sex\": \"female\"},\n",
    "]\n",
    "\n",
    "filter_obj = form_filter(date=\"10/10/2010\", sex=\"male\")\n",
    "filtered_values = filter_values_by_filter(values, filter_obj)\n",
    "print(len(filtered_values))"
   ]
  },
  {
   "cell_type": "markdown",
   "metadata": {},
   "source": [
    "### 42.  Это правильный способ получить одномерный список вида [1, 2, 3, 4]?\n",
    "> Нет"
   ]
  },
  {
   "cell_type": "code",
   "execution_count": 104,
   "metadata": {
    "tags": []
   },
   "outputs": [
    {
     "output_type": "error",
     "ename": "NameError",
     "evalue": "name 'u' is not defined",
     "traceback": [
      "\u001b[0;31m---------------------------------------------------------------------------\u001b[0m",
      "\u001b[0;31mNameError\u001b[0m                                 Traceback (most recent call last)",
      "\u001b[0;32m<ipython-input-104-ba5b78d831f5>\u001b[0m in \u001b[0;36m<module>\u001b[0;34m\u001b[0m\n\u001b[1;32m      1\u001b[0m \u001b[0ma\u001b[0m \u001b[0;34m=\u001b[0m \u001b[0;34m[\u001b[0m\u001b[0;34m[\u001b[0m\u001b[0;36m1\u001b[0m\u001b[0;34m,\u001b[0m \u001b[0;36m2\u001b[0m\u001b[0;34m]\u001b[0m\u001b[0;34m,\u001b[0m \u001b[0;34m[\u001b[0m\u001b[0;36m3\u001b[0m\u001b[0;34m,\u001b[0m \u001b[0;36m4\u001b[0m\u001b[0;34m]\u001b[0m\u001b[0;34m]\u001b[0m\u001b[0;34m\u001b[0m\u001b[0;34m\u001b[0m\u001b[0m\n\u001b[1;32m      2\u001b[0m \u001b[0mb\u001b[0m \u001b[0;34m=\u001b[0m \u001b[0;34m[\u001b[0m\u001b[0;34m]\u001b[0m\u001b[0;34m\u001b[0m\u001b[0;34m\u001b[0m\u001b[0m\n\u001b[0;32m----> 3\u001b[0;31m \u001b[0mb\u001b[0m \u001b[0;34m=\u001b[0m \u001b[0;34m[\u001b[0m\u001b[0mv\u001b[0m \u001b[0;32mfor\u001b[0m \u001b[0mv\u001b[0m \u001b[0;32min\u001b[0m \u001b[0mu\u001b[0m \u001b[0;32mfor\u001b[0m \u001b[0mu\u001b[0m \u001b[0;32min\u001b[0m \u001b[0ma\u001b[0m\u001b[0;34m]\u001b[0m\u001b[0;34m\u001b[0m\u001b[0;34m\u001b[0m\u001b[0m\n\u001b[0m",
      "\u001b[0;31mNameError\u001b[0m: name 'u' is not defined"
     ]
    }
   ],
   "source": [
    "a = [[1, 2], [3, 4]]\n",
    "b = []\n",
    "b = [v for v in u for u in a]"
   ]
  },
  {
   "cell_type": "markdown",
   "metadata": {},
   "source": [
    "### 43.  ​ Рассмотрите следующий код и выберите выражение, которое возвращает False или вызывает исключение:  \n",
    "> isinstance(a, type) вызывает false. Остальное true."
   ]
  },
  {
   "cell_type": "code",
   "execution_count": 105,
   "metadata": {
    "tags": []
   },
   "outputs": [
    {
     "output_type": "stream",
     "name": "stdout",
     "text": "False\n"
    }
   ],
   "source": [
    "class Foo:\n",
    "    pass\n",
    "\n",
    "class Foo1:\n",
    "    pass\n",
    "\n",
    "class Bar(Foo, Foo1):\n",
    "    pass\n",
    "\n",
    "a = Bar()\n",
    "\n",
    "print(isinstance(a, type))"
   ]
  },
  {
   "cell_type": "markdown",
   "metadata": {},
   "source": [
    "### 44. ​ Каким будет вывод следующего кода?\n"
   ]
  },
  {
   "cell_type": "code",
   "execution_count": 106,
   "metadata": {
    "tags": []
   },
   "outputs": [
    {
     "output_type": "stream",
     "name": "stdout",
     "text": "[0]\n[0]\n[0, 1]\n"
    }
   ],
   "source": [
    "def foo(bar=[]):\n",
    "    bar.append(len(bar))\n",
    "    print(bar)\n",
    "\n",
    "foo()\n",
    "foo([])\n",
    "foo()"
   ]
  },
  {
   "cell_type": "markdown",
   "metadata": {},
   "source": [
    "### 45. ​ Какой код будет переводить s в строку равную «mistakes with sentence some is this», s = \" %%tHIS is soMe %%sentence %_ %witH misTAKes _%\"\n",
    "\n",
    "> Странная фигня. \n",
    "В данном случае должен был быть код который:  \n",
    "* убирает '%' (метод .replace('%', ''))  \n",
    "*      убирает '_' (replace)  \n",
    "* разделяет строку на слова (split())  \n",
    "* отзеркаливает массив (reverse())  \n",
    "* соединяет все в одно через пробел(' '.join())  \n",
    "Ниже приведен приближенный к верному ответ(У меня в юпитере так вообще целиком правильный ответ)\n"
   ]
  },
  {
   "cell_type": "code",
   "execution_count": 107,
   "metadata": {
    "tags": []
   },
   "outputs": [
    {
     "output_type": "stream",
     "name": "stdout",
     "text": "mistakes_ with _ sentence some is this\n"
    }
   ],
   "source": [
    "s = \" %%tHIS is soMe %%sentence %_%witH misTAKes_%\"\n",
    "\n",
    "\n",
    "print(' '.join(reversed(s.replace('%', ' ').lower().split())))"
   ]
  },
  {
   "cell_type": "markdown",
   "metadata": {},
   "source": []
  },
  {
   "cell_type": "markdown",
   "metadata": {},
   "source": [
    "### 46. Выберите возвращаемое значение rec (10)\n",
    " > 32. \n",
    " Следите за кол - вом рекурсивных вызовов."
   ]
  },
  {
   "cell_type": "code",
   "execution_count": 108,
   "metadata": {
    "tags": []
   },
   "outputs": [
    {
     "output_type": "stream",
     "name": "stdout",
     "text": "32\n"
    }
   ],
   "source": [
    "def rec(n):\n",
    "    if n <= 2:\n",
    "        return n\n",
    "\n",
    "    return rec(n - 2) * 2\n",
    "\n",
    "print(rec(10))"
   ]
  },
  {
   "cell_type": "markdown",
   "metadata": {},
   "source": [
    "### 47.  ​​ Рассмотрим следующий код. Будет ли а равно б?  \n",
    ">  True.  \n",
    " https://tproger.ru/translations/python-built-ins-worth-learning/"
   ]
  },
  {
   "cell_type": "code",
   "execution_count": 109,
   "metadata": {
    "tags": []
   },
   "outputs": [
    {
     "output_type": "stream",
     "name": "stdout",
     "text": "True\n"
    }
   ],
   "source": [
    "ar = ['a', 'b', 'c']\n",
    "\n",
    "a = zip(range(len(ar)), ar)\n",
    "a = list(a)\n",
    "\n",
    "b = list(enumerate(ar))\n",
    "\n",
    "is_equal = (a == b)\n",
    "print(is_equal)"
   ]
  },
  {
   "cell_type": "markdown",
   "metadata": {},
   "source": [
    "### 48. ​ Выберите правильный вывод этого кода. \n",
    "> StopIteration  \n",
    "https://habr.com/ru/post/132554/"
   ]
  },
  {
   "cell_type": "code",
   "execution_count": 110,
   "metadata": {
    "tags": []
   },
   "outputs": [
    {
     "output_type": "error",
     "ename": "StopIteration",
     "evalue": "",
     "traceback": [
      "\u001b[0;31m---------------------------------------------------------------------------\u001b[0m",
      "\u001b[0;31mStopIteration\u001b[0m                             Traceback (most recent call last)",
      "\u001b[0;32m<ipython-input-110-87421af4c887>\u001b[0m in \u001b[0;36m<module>\u001b[0;34m\u001b[0m\n\u001b[1;32m      8\u001b[0m \u001b[0;34m\u001b[0m\u001b[0m\n\u001b[1;32m      9\u001b[0m \u001b[0;32mfor\u001b[0m \u001b[0mi\u001b[0m \u001b[0;32min\u001b[0m \u001b[0mrange\u001b[0m\u001b[0;34m(\u001b[0m\u001b[0;36m10\u001b[0m\u001b[0;34m)\u001b[0m\u001b[0;34m:\u001b[0m\u001b[0;34m\u001b[0m\u001b[0;34m\u001b[0m\u001b[0m\n\u001b[0;32m---> 10\u001b[0;31m     \u001b[0mnext\u001b[0m\u001b[0;34m(\u001b[0m\u001b[0mgen\u001b[0m\u001b[0;34m)\u001b[0m\u001b[0;34m\u001b[0m\u001b[0;34m\u001b[0m\u001b[0m\n\u001b[0m\u001b[1;32m     11\u001b[0m \u001b[0;34m\u001b[0m\u001b[0m\n\u001b[1;32m     12\u001b[0m \u001b[0mprint\u001b[0m\u001b[0;34m(\u001b[0m\u001b[0mnext\u001b[0m\u001b[0;34m(\u001b[0m\u001b[0mgen\u001b[0m\u001b[0;34m)\u001b[0m\u001b[0;34m)\u001b[0m\u001b[0;34m\u001b[0m\u001b[0;34m\u001b[0m\u001b[0m\n",
      "\u001b[0;31mStopIteration\u001b[0m: "
     ]
    }
   ],
   "source": [
    "def my_gen():\n",
    "    _sum = 0\n",
    "    for i in range(5):\n",
    "        _sum += i\n",
    "        yield _sum\n",
    "\n",
    "gen = my_gen()\n",
    "\n",
    "for i in range(10):\n",
    "    next(gen)\n",
    "\n",
    "print(next(gen))"
   ]
  },
  {
   "cell_type": "markdown",
   "metadata": {},
   "source": [
    "### 49. ​ Рассмотрите следующий код и выберите правильный вывод. \n",
    "> 27 потому ,что:   \n",
    "словарь класса Person для оъбекта frodo будет состоять из {'uid' : 100, 'age' : 25} (длинна = 2)"
   ]
  },
  {
   "cell_type": "code",
   "execution_count": 111,
   "metadata": {
    "tags": []
   },
   "outputs": [
    {
     "output_type": "stream",
     "name": "stdout",
     "text": "27\n"
    }
   ],
   "source": [
    "class Person:\n",
    "    def __init__(self, uid):\n",
    "        self.uid = uid\n",
    "\n",
    "\n",
    "frodo = Person(100)\n",
    "\n",
    "frodo.__dict__['age'] = 25\n",
    "\n",
    "# print(frodo.__dict__)\n",
    "print(frodo.age + len(frodo.__dict__))\n",
    "\n"
   ]
  },
  {
   "cell_type": "markdown",
   "metadata": {},
   "source": [
    "### 50. ​ Выберите правильный вывод следующего кода.\n"
   ]
  },
  {
   "cell_type": "code",
   "execution_count": 112,
   "metadata": {
    "tags": []
   },
   "outputs": [
    {
     "output_type": "stream",
     "name": "stdout",
     "text": "someway\n"
    }
   ],
   "source": [
    "class Base:\n",
    "    def foo(self):\n",
    "        raise NotImplemented()\n",
    "\n",
    "\n",
    "class FooSimple(Base):\n",
    "    def foo(self):\n",
    "        return \"simple\"\n",
    "\n",
    "\n",
    "class FooComplex(Base):\n",
    "    def foo(self):\n",
    "        return \"complex\"\n",
    "\n",
    "\n",
    "class FooSomeWay(FooSimple):\n",
    "    def foo(self):\n",
    "        return \"someway\"\n",
    "\n",
    "\n",
    "class FooDifferent(FooSomeWay):\n",
    "    def bar(self):\n",
    "        return \"bar\"\n",
    "\n",
    "print(FooDifferent().foo())"
   ]
  },
  {
   "cell_type": "markdown",
   "metadata": {},
   "source": [
    "### 51.  https://www.youtube.com/watch?time_continue=1&v=YLrSfoGID_Y&feature=emb_title"
   ]
  },
  {
   "cell_type": "markdown",
   "metadata": {},
   "source": [
    "#### Дальше идет копирка ответов Максима Реута (продукт не коммерческий, поэтому думаю не засудит), ибо я в джанге полный 0. "
   ]
  },
  {
   "cell_type": "markdown",
   "metadata": {},
   "source": [
    "### 52.  Как сделать поле модели необязательным?\n",
    ">"
   ]
  },
  {
   "cell_type": "markdown",
   "metadata": {},
   "source": [
    "https://djbook.ru/ch06s06.html  \n",
    "blank = true"
   ]
  },
  {
   "cell_type": "markdown",
   "metadata": {},
   "source": [
    "### 53. В каком файле описывается схема взаимодействия ссылок и представлений?\n",
    "ursl.py"
   ]
  },
  {
   "cell_type": "markdown",
   "metadata": {},
   "source": [
    "### 54. Какой декоратор для ограничения доступа к представлениям?  \n",
    "> @login_required"
   ]
  },
  {
   "cell_type": "markdown",
   "metadata": {},
   "source": [
    "### 55. Какая из следующих команд запускает сервер разработки, разрешая внешние соединения? \n",
    "> manage.py runserver 0.0.0.0:8000\n",
    "https://djbook.ru/rel1.9/intro/tutorial01.html"
   ]
  },
  {
   "cell_type": "markdown",
   "metadata": {},
   "source": [
    "#### 56. Какой шаблонный тег указывает родительский шаблон? \n",
    "> {% extends \"base.html\" %}"
   ]
  },
  {
   "cell_type": "markdown",
   "metadata": {},
   "source": [
    "### 57. Какой из вариантов использования фильтров не верен?\n",
    "> все верны"
   ]
  },
  {
   "cell_type": "markdown",
   "metadata": {},
   "source": [
    "### 58. Как задать модели сортировку по id? \n",
    ">"
   ]
  },
  {
   "cell_type": "code",
   "execution_count": 113,
   "metadata": {
    "tags": []
   },
   "outputs": [],
   "source": [
    "class Meta:\n",
    "    ordering = [\"id\"]"
   ]
  },
  {
   "cell_type": "markdown",
   "metadata": {},
   "source": [
    "### 59. Обязательно ли в моделях самому определять первичные ключи?\n",
    "> Да"
   ]
  },
  {
   "cell_type": "markdown",
   "metadata": {},
   "source": [
    "### 60. ​ Как добавить модель в интерфейс администратора? \n",
    "> В папке приложения создать файл admin.py и зарегистрировать нужные модели в нем"
   ]
  },
  {
   "cell_type": "markdown",
   "metadata": {},
   "source": [
    "### 61. ​ Какая функция принимает имя шаблона и контекст и возвращает объект HttpResponse с обработанным шаблоном?  \n",
    "> render_to_response"
   ]
  },
  {
   "cell_type": "markdown",
   "metadata": {},
   "source": [
    "### 62. ​ Какая команда создает файлы миграций в Django? \n",
    "> manage.py makemigrations"
   ]
  },
  {
   "cell_type": "markdown",
   "metadata": {},
   "source": [
    "### 63. Как проверить что данные в форме верны? \n",
    "> form.isvalid()"
   ]
  },
  {
   "cell_type": "markdown",
   "metadata": {},
   "source": [
    "### 64. Как создать проект в Django? \n",
    "> django-admin startproject projec"
   ]
  },
  {
   "cell_type": "markdown",
   "metadata": {},
   "source": [
    "### 65. Будет ли доступен Django проект по ссылке http://localhost:8000/admin, если ALLOWED_HOSTS = [] и DEBUG = False? (Django работает локально на порту 8000) \n",
    "> нет\n"
   ]
  },
  {
   "cell_type": "markdown",
   "metadata": {},
   "source": [
    "### 66. Как добавить приложение. созданное с помощью комманды manage.py createapp news в\n",
    "проект.  \n",
    "> Нужно добавить в файле settings.py в переменную INSTALLED_APPS имя нашего приложения news"
   ]
  },
  {
   "cell_type": "markdown",
   "metadata": {},
   "source": [
    "### 67.  Для чего в Django используется middleware?\n",
    "> для обработки запросов и ответов в Django"
   ]
  },
  {
   "cell_type": "markdown",
   "metadata": {},
   "source": [
    "### 68. Как в основной/проектный urls.py добавить urls из другого приложения?\n",
    "> path('news/', include('catalog.urls')),"
   ]
  },
  {
   "cell_type": "markdown",
   "metadata": {},
   "source": [
    "### 69.  Как подключить стандартную ​ аутентификацию​ в Django?\n",
    "> https://djbook.ru/rel1.9/topics/auth/index.html"
   ]
  },
  {
   "cell_type": "markdown",
   "metadata": {},
   "source": [
    "### 70.  ​ Как подключить логирование в Django?\n",
    "> Cоздать переменную LOGGING в settings.py и указать конфигурацию."
   ]
  },
  {
   "cell_type": "markdown",
   "metadata": {},
   "source": [
    "### 71. ​ Как в моделях создать поле ​ для указания отношения «один ко многим» к другой модели базы данных?\n",
    "> field = models.OneToMany(‘DB_TABLE’)"
   ]
  },
  {
   "cell_type": "markdown",
   "metadata": {},
   "source": [
    "### 72. Какое представление лучше использовать для отображения списка записей в базе данных?\n",
    ">  def my_view(request): my_objects = get_list_or_404(MyModel, published=True)"
   ]
  },
  {
   "cell_type": "markdown",
   "metadata": {},
   "source": [
    "### Список неправильных \\ странных \\ непонятных вопросов:\n",
    "\n",
    "* 24\n",
    "* 28 (немного некорректный вопрос)\n",
    "* 32  \n",
    "* 34\n",
    "* 35(Ответ верный,просто есть подозрения)\n",
    "* 36\n",
    "* 39\n",
    "* 40 (не нашел объяснения)\n",
    "* 45\n",
    "\n",
    "Если у вас есть хорошие объяснения просьба поделиться.\n",
    "Список не финальный(есть такая мысль)."
   ]
  }
 ],
 "metadata": {
  "language_info": {
   "codemirror_mode": {
    "name": "ipython",
    "version": 3
   },
   "file_extension": ".py",
   "mimetype": "text/x-python",
   "name": "python",
   "nbconvert_exporter": "python",
   "pygments_lexer": "ipython3",
   "version": "3.7.3-final"
  },
  "orig_nbformat": 2,
  "kernelspec": {
   "name": "python37364bitbasecondac430f3a48a4d480ba3903bff38446b03",
   "display_name": "Python 3.7.3 64-bit ('base': conda)"
  }
 },
 "nbformat": 4,
 "nbformat_minor": 2
}