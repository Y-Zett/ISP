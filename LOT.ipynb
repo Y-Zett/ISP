{
 "cells": [
  {
   "cell_type": "markdown",
   "metadata": {},
   "source": [
    "### 1. Что будет в выводе после выполнения кода?\n"
   ]
  },
  {
   "cell_type": "code",
   "execution_count": 58,
   "metadata": {
    "tags": []
   },
   "outputs": [
    {
     "name": "stdout",
     "output_type": "stream",
     "text": [
      "on\n"
     ]
    }
   ],
   "source": [
    "print(\"python is great\" [4:6])"
   ]
  },
  {
   "cell_type": "markdown",
   "metadata": {},
   "source": [
    "### 2. ​ Какое значение будет в переменной «foo» после выполнения этого кода?\n",
    "> При операциях сравнения если обЪект не пуст, то значение true, иначе false"
   ]
  },
  {
   "cell_type": "code",
   "execution_count": 59,
   "metadata": {
    "tags": []
   },
   "outputs": [
    {
     "name": "stdout",
     "output_type": "stream",
     "text": [
      "123\n"
     ]
    }
   ],
   "source": [
    "foo = 123\n",
    "some_flag = True\n",
    "some_list = []\n",
    "if some_flag and some_list:\n",
    "    foo = 321\n",
    "print (foo)"
   ]
  },
  {
   "cell_type": "markdown",
   "metadata": {},
   "source": [
    "### 3. Как правильно добавить элемент в список? (“a” - это список)"
   ]
  },
  {
   "cell_type": "code",
   "execution_count": 60,
   "metadata": {
    "tags": []
   },
   "outputs": [
    {
     "name": "stdout",
     "output_type": "stream",
     "text": [
      "[1]\n"
     ]
    }
   ],
   "source": [
    "a = []\n",
    "a.append(1)\n",
    "print(a)"
   ]
  },
  {
   "cell_type": "markdown",
   "metadata": {},
   "source": [
    "### 4. ​ Будет ли следующий код создавать список со всеми нечетными числами меньше 10?"
   ]
  },
  {
   "cell_type": "code",
   "execution_count": 61,
   "metadata": {
    "tags": []
   },
   "outputs": [
    {
     "name": "stdout",
     "output_type": "stream",
     "text": [
      "[1, 3, 5, 7, 9]\n"
     ]
    }
   ],
   "source": [
    "i = [k for k in range(10) if k % 2]\n",
    "print(i)"
   ]
  },
  {
   "cell_type": "markdown",
   "metadata": {},
   "source": [
    "### 5. ​ Выберите функцию, которая может конвертировать строку «1 + 5» в 6 (int)\n",
    "> https://habr.com/ru/post/221937/"
   ]
  },
  {
   "cell_type": "code",
   "execution_count": 62,
   "metadata": {
    "tags": []
   },
   "outputs": [
    {
     "name": "stdout",
     "output_type": "stream",
     "text": [
      "6\n"
     ]
    }
   ],
   "source": [
    "s = \"1 + 5\"\n",
    "s = eval(s)\n",
    "\n",
    "print(s)"
   ]
  },
  {
   "cell_type": "markdown",
   "metadata": {},
   "source": [
    "### 6.  ​ Можно ли lambda функцию присвоиться переменной, например «a = lambda х: х ** 2»?"
   ]
  },
  {
   "cell_type": "code",
   "execution_count": 63,
   "metadata": {
    "tags": []
   },
   "outputs": [
    {
     "name": "stdout",
     "output_type": "stream",
     "text": [
      "4\n"
     ]
    }
   ],
   "source": [
    "a = lambda x: x**2\n",
    "print(a(2))"
   ]
  },
  {
   "cell_type": "markdown",
   "metadata": {},
   "source": [
    "### 7.  ​ Выберите правильный вывод следующего кода."
   ]
  },
  {
   "cell_type": "code",
   "execution_count": 64,
   "metadata": {
    "tags": []
   },
   "outputs": [
    {
     "name": "stdout",
     "output_type": "stream",
     "text": [
      "4\n"
     ]
    }
   ],
   "source": [
    "def bar(a, b, c, *args):\n",
    "    return a + b + c - len(args)\n",
    "\n",
    "print(bar(1, 2, 3, 4, 5))"
   ]
  },
  {
   "cell_type": "markdown",
   "metadata": {},
   "source": [
    "### 8.  ​ Каков результат этого выражения?"
   ]
  },
  {
   "cell_type": "code",
   "execution_count": 66,
   "metadata": {
    "tags": []
   },
   "outputs": [
    {
     "name": "stdout",
     "output_type": "stream",
     "text": [
      "57\n"
     ]
    }
   ],
   "source": [
    "print(5 ** 2 + 16 // 2 * (2 + 2))"
   ]
  },
  {
   "cell_type": "markdown",
   "metadata": {},
   "source": [
    "### 9.  ​ Может ли функция передаваться как параметр функции?\n",
    "Да.  \n",
    "> Цитата :   функции в python являются объектами, соответственно, их можно возвращать из другой функции или передавать в качестве аргумента. Также следует помнить, что функция в python может быть определена и внутри другой функции. Взято здесь https://pythonworld.ru/osnovy/dekoratory.html"
   ]
  },
  {
   "cell_type": "code",
   "execution_count": 67,
   "metadata": {
    "tags": []
   },
   "outputs": [
    {
     "name": "stdout",
     "output_type": "stream",
     "text": [
      "36\n",
      "end\n"
     ]
    }
   ],
   "source": [
    "\n",
    "def f(x):\n",
    "    return x ** 2\n",
    "\n",
    "def y (a, b):\n",
    "    return a(b)\n",
    "\n",
    "print(y(f, 6))\n",
    "print(\"end\")"
   ]
  },
  {
   "cell_type": "markdown",
   "metadata": {},
   "source": [
    "### 10. ​ Рассмотрим следующий код. Будет ли вызвано исключение?\n",
    "Да, будет вызвано ZeroDivision exeption, наследник BaseExeption. \n",
    "> https://pythonworld.ru/tipy-dannyx-v-python/isklyucheniya-v-python-konstrukciya-try-except-dlya-obrabotki-isklyuchenij.html"
   ]
  },
  {
   "cell_type": "code",
   "execution_count": 68,
   "metadata": {
    "tags": []
   },
   "outputs": [
    {
     "name": "stdout",
     "output_type": "stream",
     "text": [
      "5\n"
     ]
    }
   ],
   "source": [
    "a, b = 10, 0\n",
    "\n",
    "try:\n",
    "    c = a / b\n",
    "except Exception as exc:\n",
    "    c = 5\n",
    "\n",
    "print(c)"
   ]
  },
  {
   "cell_type": "markdown",
   "metadata": {},
   "source": [
    "### 11. ​ Чему будет равна переменная «c» после выполнения этого кода?\n",
    "> set() - Build an unordered collection of unique elements. "
   ]
  },
  {
   "cell_type": "code",
   "execution_count": 69,
   "metadata": {
    "tags": []
   },
   "outputs": [
    {
     "name": "stdout",
     "output_type": "stream",
     "text": [
      "[1, 2, 3, 4]\n"
     ]
    }
   ],
   "source": [
    "a = [1, 2, 3]\n",
    "b = a + [1, 2, 3, 4]\n",
    "c = list(set(b))\n",
    "print(c)"
   ]
  },
  {
   "cell_type": "markdown",
   "metadata": {},
   "source": [
    "### 12. ​ Выберите вариант ответа для изменения порядка переменной «array» (array = [1, 2, 3, 4, 5,  6, 7, 8, 9]).\n",
    "### Чтобы array был равен [9, 8, 7, ... 1]"
   ]
  },
  {
   "cell_type": "code",
   "execution_count": 3,
   "metadata": {
    "tags": []
   },
   "outputs": [
    {
     "name": "stdout",
     "output_type": "stream",
     "text": [
      "[1, 2, 3, 4, 5, 6, 7, 8, 9]\n",
      "[9, 8, 7, 6, 5, 4, 3, 2, 1]\n",
      "[1, 2, 3, 4, 5, 6, 7, 8, 9]\n",
      "[9, 8, 7, 6, 5, 4, 3, 2, 1]\n"
     ]
    }
   ],
   "source": [
    "array = [i for i in range (1, 10)]\n",
    "print(array)\n",
    "\n",
    "array = array[:: -1]\n",
    "# array = list(reversed(array))\n",
    "print(array)"
   ]
  },
  {
   "cell_type": "markdown",
   "metadata": {},
   "source": [
    "### 13. ​ Будет ли этот код работать?\n",
    "> False. Cause it's Tuple(immutable(неизменяемый) object)."
   ]
  },
  {
   "cell_type": "code",
   "execution_count": 71,
   "metadata": {
    "scrolled": true
   },
   "outputs": [
    {
     "ename": "TypeError",
     "evalue": "'tuple' object does not support item assignment",
     "output_type": "error",
     "traceback": [
      "\u001b[0;31m---------------------------------------------------------------------------\u001b[0m",
      "\u001b[0;31mTypeError\u001b[0m                                 Traceback (most recent call last)",
      "\u001b[0;32m<ipython-input-71-7ff91b3baae4>\u001b[0m in \u001b[0;36m<module>\u001b[0;34m\u001b[0m\n\u001b[1;32m      3\u001b[0m     \u001b[0;34m(\u001b[0m\u001b[0;34m'john'\u001b[0m\u001b[0;34m,\u001b[0m \u001b[0;34m'China'\u001b[0m\u001b[0;34m)\u001b[0m\u001b[0;34m\u001b[0m\u001b[0;34m\u001b[0m\u001b[0m\n\u001b[1;32m      4\u001b[0m ]\n\u001b[0;32m----> 5\u001b[0;31m \u001b[0muser_locations\u001b[0m\u001b[0;34m[\u001b[0m\u001b[0;36m0\u001b[0m\u001b[0;34m]\u001b[0m\u001b[0;34m[\u001b[0m\u001b[0;36m1\u001b[0m\u001b[0;34m]\u001b[0m \u001b[0;34m=\u001b[0m \u001b[0;34m'Canada'\u001b[0m\u001b[0;34m\u001b[0m\u001b[0;34m\u001b[0m\u001b[0m\n\u001b[0m",
      "\u001b[0;31mTypeError\u001b[0m: 'tuple' object does not support item assignment"
     ]
    }
   ],
   "source": [
    "user_locations = [\n",
    "    ('u1', 'USA'),\n",
    "    ('john', 'China')\n",
    "]\n",
    "user_locations[0][1] = 'Canada'"
   ]
  },
  {
   "cell_type": "markdown",
   "metadata": {},
   "source": [
    "### 14. ​ Что будет выводить следующий код?  \n",
    "> https://python-scripts.com/f-strings."
   ]
  },
  {
   "cell_type": "code",
   "execution_count": 72,
   "metadata": {
    "scrolled": true,
    "tags": []
   },
   "outputs": [
    {
     "name": "stdout",
     "output_type": "stream",
     "text": [
      "Hello, sudo! Is it correct, that 5 + 1.5 = 6.5?\n"
     ]
    }
   ],
   "source": [
    "user = \"sudo\"\n",
    "a = 5\n",
    "b = 1.5\n",
    "s = f\"Hello, {user}! Is it correct, that {a} + {b} = {a + b}?\"\n",
    "print(s)"
   ]
  },
  {
   "cell_type": "markdown",
   "metadata": {},
   "source": [
    "### 15. Нужно создать словарь, где ключами будут имя человека, а значением будет возраст человека. Выберите неправильный вариант, который не создает такой словарь.\n",
    "  \n",
    "> Becouse it's set. Not a dictionary."
   ]
  },
  {
   "cell_type": "code",
   "execution_count": 74,
   "metadata": {
    "tags": []
   },
   "outputs": [
    {
     "name": "stdout",
     "output_type": "stream",
     "text": [
      "<class 'set'>\n"
     ]
    }
   ],
   "source": [
    "d = {('Ann', 23), ('Max', 33)}\n",
    "print(type(d))"
   ]
  },
  {
   "cell_type": "markdown",
   "metadata": {},
   "source": [
    "### 16.  Выберите правильный путь в словаре ​ “d”​ к значению 111?"
   ]
  },
  {
   "cell_type": "code",
   "execution_count": 75,
   "metadata": {
    "tags": []
   },
   "outputs": [
    {
     "name": "stdout",
     "output_type": "stream",
     "text": [
      "111\n"
     ]
    }
   ],
   "source": [
    "d = [\n",
    "\n",
    "    'hi',\n",
    "    '<3',\n",
    "    'key',\n",
    "    {\n",
    "        'number': 100,\n",
    "        'coordinate':\n",
    "        {\n",
    "            'x': 333,\n",
    "            'y': 20,\n",
    "            'z': 111\n",
    "        },\n",
    "        'value': -10\n",
    "    },\n",
    "    '=',\n",
    "]\n",
    "\n",
    "print(d[3]['coordinate']['z'])"
   ]
  },
  {
   "cell_type": "markdown",
   "metadata": {},
   "source": [
    "### 17.  Какое утверждение вызовет исключение?\n",
    "> In Python, any immutable object (such as an integer, boolean, string, tuple) is hashable, meaning its value does not change during its lifetime. This allows Python to create a unique hash value to identify it, which can be used by dictionaries to track unique keys and sets to track unique values.\n",
    "\n",
    "> This is why Python requires us to use immutable datatypes for the keys in a dictionary."
   ]
  },
  {
   "cell_type": "code",
   "execution_count": 76,
   "metadata": {
    "scrolled": false
   },
   "outputs": [
    {
     "ename": "TypeError",
     "evalue": "unhashable type: 'list'",
     "output_type": "error",
     "traceback": [
      "\u001b[0;31m---------------------------------------------------------------------------\u001b[0m",
      "\u001b[0;31mTypeError\u001b[0m                                 Traceback (most recent call last)",
      "\u001b[0;32m<ipython-input-76-a2d84c92bf36>\u001b[0m in \u001b[0;36m<module>\u001b[0;34m\u001b[0m\n\u001b[0;32m----> 1\u001b[0;31m \u001b[0md\u001b[0m \u001b[0;34m=\u001b[0m \u001b[0;34m{\u001b[0m\u001b[0;34m[\u001b[0m\u001b[0;36m1\u001b[0m\u001b[0;34m,\u001b[0m \u001b[0;36m2\u001b[0m\u001b[0;34m]\u001b[0m\u001b[0;34m:\u001b[0m \u001b[0;36m10\u001b[0m\u001b[0;34m}\u001b[0m\u001b[0;34m\u001b[0m\u001b[0;34m\u001b[0m\u001b[0m\n\u001b[0m",
      "\u001b[0;31mTypeError\u001b[0m: unhashable type: 'list'"
     ]
    }
   ],
   "source": [
    "d = {[1, 2]: 10}"
   ]
  },
  {
   "cell_type": "markdown",
   "metadata": {},
   "source": [
    "### 18. ​ Какой тип будет иметь переменная «foo» из этого кода?\n",
    "> Tuple \n"
   ]
  },
  {
   "cell_type": "code",
   "execution_count": 78,
   "metadata": {
    "tags": []
   },
   "outputs": [
    {
     "name": "stdout",
     "output_type": "stream",
     "text": [
      "<class 'tuple'>\n"
     ]
    }
   ],
   "source": [
    "foo = 123,\n",
    "print(type(foo))"
   ]
  },
  {
   "cell_type": "markdown",
   "metadata": {},
   "source": [
    "### 19. Выберите правильный вывод этого кода"
   ]
  },
  {
   "cell_type": "code",
   "execution_count": 79,
   "metadata": {
    "tags": []
   },
   "outputs": [
    {
     "name": "stdout",
     "output_type": "stream",
     "text": [
      "1.5 1.0 1\n"
     ]
    }
   ],
   "source": [
    "print(60 / 40, 60. // 40, 60 // 40)"
   ]
  },
  {
   "cell_type": "markdown",
   "metadata": {},
   "source": [
    "### 20.  ​ Рассмотрим следующий код и выберите, что будет в переменной «a».\n",
    "> a -- set .Set - collection of unique objects."
   ]
  },
  {
   "cell_type": "code",
   "execution_count": 80,
   "metadata": {
    "tags": []
   },
   "outputs": [
    {
     "name": "stdout",
     "output_type": "stream",
     "text": [
      "{0, 1, 2}\n"
     ]
    }
   ],
   "source": [
    "a = {i % 3 for i in range(10) if i % 2}\n",
    "\n",
    "print(a)"
   ]
  },
  {
   "cell_type": "markdown",
   "metadata": {},
   "source": [
    "### 21. ​ Выберите правильный вывод следующего кода?\n",
    "> https://www.geeksforgeeks.org/args-kwargs-python/#:~:text=It%20is%20used%20to%20pass,used%20with%20the%20word%20args."
   ]
  },
  {
   "cell_type": "code",
   "execution_count": 3,
   "metadata": {
    "tags": []
   },
   "outputs": [
    {
     "output_type": "stream",
     "name": "stdout",
     "text": "(10, 20, 'foo')\n{'foo': 'bar', 'bar': '100'}\n"
    }
   ],
   "source": [
    "def some_func(*args, **kwargs):\n",
    "    print(args)\n",
    "    print(kwargs)\n",
    "\n",
    "some_func(10, 20, 'foo', foo = 'bar', bar = '100')"
   ]
  },
  {
   "cell_type": "markdown",
   "metadata": {},
   "source": [
    "### 22. ​ Выберите неправильный способ копирования словаря «d = {1: 2, 3: 5}»"
   ]
  },
  {
   "cell_type": "code",
   "execution_count": 83,
   "metadata": {
    "tags": []
   },
   "outputs": [
    {
     "name": "stdout",
     "output_type": "stream",
     "text": [
      "<class 'set'>\n"
     ]
    }
   ],
   "source": [
    "d = {1 : 2, 3 : 5}\n",
    "\n",
    "# z = {k : d[k] if k in d else None for k in d.keys()} correct\n",
    "z =  {v for v in d.items()} # I think it's set but not dictionary.\n",
    "# z = {k : d[k] for k in d} correct\n",
    "# z = {k : d[k] for k in d if k in d}\n",
    "\n",
    "print(z)\n",
    "print(type(z))\n"
   ]
  },
  {
   "cell_type": "markdown",
   "metadata": {},
   "source": [
    "### 23.​ Выберите опцию со всеми функциями, которые могут быть вызваны без создания Foo.\n",
    "> All, but not Foo.bar().  \n",
    ">  https://pythonz.net/references/named/classmethod/"
   ]
  },
  {
   "cell_type": "code",
   "execution_count": 84,
   "metadata": {},
   "outputs": [],
   "source": [
    "def temp_func():\n",
    "    return \"temp\"\n",
    "\n",
    "class Foo:\n",
    "    def bar(self):\n",
    "        return \"bar\"\n",
    "\n",
    "    @staticmethod\n",
    "    def foo():\n",
    "        return \"foo\"\n",
    "\n",
    "    @classmethod\n",
    "    def func(cls):\n",
    "        return \"func\"\n",
    "\n",
    "\n"
   ]
  },
  {
   "cell_type": "markdown",
   "metadata": {},
   "source": [
    "### 24. Выберите опцию с неправильным способом вызова этой функции «foo».\n",
    "> Предположительно ответ -- foo(some_func())"
   ]
  },
  {
   "cell_type": "code",
   "execution_count": 85,
   "metadata": {},
   "outputs": [
    {
     "ename": "NameError",
     "evalue": "name 'Function' is not defined",
     "output_type": "error",
     "traceback": [
      "\u001b[0;31m---------------------------------------------------------------------------\u001b[0m",
      "\u001b[0;31mNameError\u001b[0m                                 Traceback (most recent call last)",
      "\u001b[0;32m<ipython-input-85-2c0b5509001a>\u001b[0m in \u001b[0;36m<module>\u001b[0;34m\u001b[0m\n\u001b[0;32m----> 1\u001b[0;31m \u001b[0;32mdef\u001b[0m \u001b[0mfoo\u001b[0m \u001b[0;34m(\u001b[0m\u001b[0mfunc\u001b[0m\u001b[0;34m:\u001b[0m \u001b[0mFunction\u001b[0m\u001b[0;34m)\u001b[0m\u001b[0;34m:\u001b[0m\u001b[0;34m\u001b[0m\u001b[0;34m\u001b[0m\u001b[0m\n\u001b[0m\u001b[1;32m      2\u001b[0m     \u001b[0;32mpass\u001b[0m\u001b[0;34m\u001b[0m\u001b[0;34m\u001b[0m\u001b[0m\n\u001b[1;32m      3\u001b[0m \u001b[0;34m\u001b[0m\u001b[0m\n\u001b[1;32m      4\u001b[0m \u001b[0;32mdef\u001b[0m \u001b[0msome_func\u001b[0m\u001b[0;34m(\u001b[0m\u001b[0mx\u001b[0m\u001b[0;34m:\u001b[0m \u001b[0mint\u001b[0m\u001b[0;34m)\u001b[0m \u001b[0;34m->\u001b[0m \u001b[0mint\u001b[0m\u001b[0;34m:\u001b[0m\u001b[0;34m\u001b[0m\u001b[0;34m\u001b[0m\u001b[0m\n\u001b[1;32m      5\u001b[0m     \u001b[0;32mreturn\u001b[0m \u001b[0mx\u001b[0m\u001b[0;34m\u001b[0m\u001b[0;34m\u001b[0m\u001b[0m\n",
      "\u001b[0;31mNameError\u001b[0m: name 'Function' is not defined"
     ]
    }
   ],
   "source": [
    "def foo (func: Function):\n",
    "    pass\n",
    "\n",
    "def some_func(x: int) -> int:\n",
    "    return x\n",
    "\n",
    "foo(lambda x : x ** 2)"
   ]
  },
  {
   "cell_type": "markdown",
   "metadata": {},
   "source": [
    "### 25. Что будет в переменной «c» после выполнения этого кода?\n",
    "> Elements of b compared to each element of a."
   ]
  },
  {
   "cell_type": "code",
   "execution_count": 86,
   "metadata": {
    "tags": []
   },
   "outputs": [
    {
     "name": "stdout",
     "output_type": "stream",
     "text": [
      "[2, 3, 4]\n"
     ]
    }
   ],
   "source": [
    "a = [i for i in range(1, 5)]\n",
    "b = [i for i in range(2, 7)]\n",
    "k = 0\n",
    "c = [i for i in a for j in b if i == j]\n",
    "\n",
    "print(c)"
   ]
  },
  {
   "cell_type": "markdown",
   "metadata": {},
   "source": [
    "### 26. ​ Рассмотрим код ниже. Сколько раз будет оцениваться сравнение «i == j»?\n",
    " > #### 20   \n",
    " > Код в 25 задании."
   ]
  },
  {
   "cell_type": "markdown",
   "metadata": {},
   "source": [
    "### 27. ​ Будет ли следующий код выводить все числа меньше 5?\n",
    "> #### False.  \n",
    "> https://younglinux.info/python/feature/filter.     \n",
    "Without commented line u can't print el of array.\n"
   ]
  },
  {
   "cell_type": "code",
   "execution_count": 87,
   "metadata": {
    "scrolled": true,
    "tags": []
   },
   "outputs": [
    {
     "name": "stdout",
     "output_type": "stream",
     "text": [
      "<filter object at 0x7fe74bca4438>\n"
     ]
    }
   ],
   "source": [
    "array = [i for i in range(1, 8)]\n",
    "array = filter(lambda x: x < 5, array)\n",
    "# array = list(array)\n",
    "print(array)"
   ]
  },
  {
   "cell_type": "markdown",
   "metadata": {},
   "source": [
    "### 28. Какую функцию следует использовать, чтобы показать все свойства? Например. показать все методы и атрибуты класса или экземпляра класса.\n",
    "\n"
   ]
  },
  {
   "cell_type": "markdown",
   "metadata": {},
   "source": [
    ">Предположительно -- > dir() https://pythonz.net/references/named/dir/   \n",
    "или help() -- https://www.programiz.com/python-programming/methods/built-in/help\n",
    "\n",
    ">globals(), locals() - returns dictionary of globals / locals symbol table.  \n",
    "callable() - returns true for objects that support calls.\n",
    "\n"
   ]
  },
  {
   "cell_type": "markdown",
   "metadata": {},
   "source": [
    "### 29.  Выберите правильный вывод следующего кода.\n",
    "> c являеться \"ключевым\" элементом функции. Можно сказать что это значение по умолчанию для того случая, когда вы не передаете в функцию значение данного элемента. "
   ]
  },
  {
   "cell_type": "code",
   "execution_count": 88,
   "metadata": {
    "tags": []
   },
   "outputs": [
    {
     "name": "stdout",
     "output_type": "stream",
     "text": [
      "11\n"
     ]
    }
   ],
   "source": [
    "def gen():\n",
    "    return 5, 4, 2, 1, 3\n",
    "\n",
    "def foo(a, b, c = 11, *args):\n",
    "    return a + b + c\n",
    "\n",
    "print(foo(*gen()))"
   ]
  },
  {
   "cell_type": "markdown",
   "metadata": {},
   "source": [
    "### 30.  ​ Рассмотрите следующий код и выберите правильный вывод\n",
    "> TypeError - операция применена к объекту несоответствующего типа.  \n",
    "ValueError - функция получает аргумент правильного типа, но некорректного значения.  \n",
    "IndexError (возникает в данном случае) - возникающее при обращении к элементу по индексу, находящемуся вне диапазона.   \n",
    "Finally выполняет блок инструкций в любом случае, было ли исключение, или нет (применима, когда нужно непременно что-то сделать, к примеру, закрыть файл) \n"
   ]
  },
  {
   "cell_type": "code",
   "execution_count": 90,
   "metadata": {
    "tags": []
   },
   "outputs": [
    {
     "name": "stdout",
     "output_type": "stream",
     "text": [
      "index\n",
      "bye\n"
     ]
    }
   ],
   "source": [
    "a = [1, 2, 3]\n",
    "\n",
    "try:\n",
    "    b = a[5]\n",
    "except TypeError:\n",
    "    print(\"type\")\n",
    "except ValueError:\n",
    "    print(\"value\")\n",
    "except IndexError:\n",
    "    print(\"index\")\n",
    "finally:\n",
    "    print(\"bye\")"
   ]
  },
  {
   "cell_type": "markdown",
   "metadata": {},
   "source": [
    "### 31.  ​Рассмотрим следующий код. Что будет на выходе после исполнения?\n",
    "Моя версия произошедшего(чекал в дебаге)  \n",
    "user.read() создает объект класса Zuzer, который в свою очередь инициализирует вызов класса User.\n",
    "класс User методом .read() вызывает классы родители, в которых есть данные методы по порядку. Последний (FParamsReader)\n",
    "вызывает родителя ParameterReader и далее на возврате происходят print - ы  \"F!\"; \"Time!\" ; \"User!\"\n"
   ]
  },
  {
   "cell_type": "code",
   "execution_count": 91,
   "metadata": {
    "tags": []
   },
   "outputs": [
    {
     "name": "stdout",
     "output_type": "stream",
     "text": [
      "F!\n",
      "Time!\n",
      "User!\n"
     ]
    }
   ],
   "source": [
    "class ParameterReader:\n",
    "    def read(self):\n",
    "        pass\n",
    "\n",
    "\n",
    "class TimeParamsReader(ParameterReader):\n",
    "    def read(self):\n",
    "        super().read()\n",
    "        print(\"Time!\")\n",
    "\n",
    "\n",
    "class FParamsReader (ParameterReader):\n",
    "    def read(self):\n",
    "        super().read()\n",
    "        print(\"F!\")\n",
    "\n",
    "\n",
    "class Dummy:\n",
    "    def dummy_method(self):\n",
    "        print(\"I'm dummy\")\n",
    "\n",
    "\n",
    "class User(TimeParamsReader, Dummy, FParamsReader):\n",
    "    def read(self):\n",
    "        super().read()\n",
    "        print(\"User!\")\n",
    "\n",
    "\n",
    "class ZUzer(User):\n",
    "    pass\n",
    "\n",
    "\n",
    "user = ZUzer()\n",
    "user.read()"
   ]
  },
  {
   "cell_type": "markdown",
   "metadata": {},
   "source": [
    "### 32. ​ Это правильный параметризованный декоратор?\n",
    "> True. Но это не точно.   \n",
    "https://pythonworld.ru/osnovy/dekoratory.html"
   ]
  },
  {
   "cell_type": "code",
   "execution_count": 93,
   "metadata": {},
   "outputs": [],
   "source": [
    "def decorator_factory(argument : bool):\n",
    "    def decorator(function):\n",
    "        def wrapper(*args, **kwargs):\n",
    "            preprocess()\n",
    "            process_argument(argument)\n",
    "            result - function(*args, **kwargs)\n",
    "            postprocess()\n",
    "            return result\n",
    "        return wrapper\n",
    "    return decorator\n"
   ]
  },
  {
   "cell_type": "markdown",
   "metadata": {},
   "source": [
    "### 33. ​ Рассмотрите следующий код и выберите правильный вывод.\n",
    "> Такая функция является блоком кода, который «закрывает» переменные nonlocal. Суть в том, что вы можете ссылать переменные, которые определены вне вашей функции. Обычно, nonlocal позволяет вам назначать переменные во внешней области, но не в глобальной. https://python-scripts.com/scope\n"
   ]
  },
  {
   "cell_type": "code",
   "execution_count": 94,
   "metadata": {
    "tags": []
   },
   "outputs": [
    {
     "name": "stdout",
     "output_type": "stream",
     "text": [
      "AB\n",
      "ABB\n",
      "ABBB\n"
     ]
    }
   ],
   "source": [
    "def some_closure():\n",
    "    x = \"A\"\n",
    "\n",
    "    def some_func():\n",
    "        nonlocal x\n",
    "        x = x + 'B'\n",
    "        return x\n",
    "\n",
    "    return some_func\n",
    "\n",
    "f = some_closure()\n",
    "\n",
    "print(f())\n",
    "print(f())\n",
    "print(f())"
   ]
  },
  {
   "cell_type": "markdown",
   "metadata": {},
   "source": [
    "### 34. ​ Проанализируйте следующие классы и выберите правильный вывод этого кода.\n",
    "> Не разобрался до конца  \n",
    "Крч x через super и attr добирается до имени клсасса и идет с конца до нижнего подчеркивания и переводит в целочисленный тип данных.  \n",
    "Что - то наверное можно взять отсюда https://github.com/python-attrs/attrs  \n",
    "и https://habr.com/ru/post/186608/#intro"
   ]
  },
  {
   "cell_type": "code",
   "execution_count": 95,
   "metadata": {
    "tags": []
   },
   "outputs": [
    {
     "name": "stdout",
     "output_type": "stream",
     "text": [
      "100 100 200\n"
     ]
    }
   ],
   "source": [
    "class Meta(type):\n",
    "    def __new__(cls, name, bases, dct):\n",
    "        x = super().__new__(cls, name, bases, dct)\n",
    "        x.attr = int(name.split('_')[-1])\n",
    "        return x\n",
    "\n",
    "\n",
    "class Foo_100(metaclass = Meta):\n",
    "    pass\n",
    "\n",
    "\n",
    "class Bar_200(metaclass = Meta):\n",
    "    pass    \n",
    "\n",
    "\n",
    "print(Foo_100.attr, Foo_100().attr, Bar_200.attr)\n",
    "\n"
   ]
  },
  {
   "cell_type": "markdown",
   "metadata": {},
   "source": [
    "### 35.  ​Выберите правильный вывод этого кода.\n",
    " > Работа с потоками python\n",
    "https://webdevblog.ru/vvedenie-v-potoki-v-python/  \n",
    "Не знаю в чем причина, но юпитер не выводит отлиженное на 2 сек print(\"Good bye!\").  \n",
    "Скопируйте код в простой файл питона и запустите.\n",
    "Правильный ответ в данном случае:  \n",
    "start  \n",
    "Hi!  \n",
    "stop  \n",
    "Good bye!\n",
    "\n",
    "\n"
   ]
  },
  {
   "cell_type": "code",
   "execution_count": 96,
   "metadata": {
    "tags": []
   },
   "outputs": [
    {
     "name": "stdout",
     "output_type": "stream",
     "text": [
      "start\n",
      "Hi!stop\n",
      "\n"
     ]
    }
   ],
   "source": [
    "import threading\n",
    "import time\n",
    "\n",
    "def thread_function():\n",
    "    print(\"Hi!\")\n",
    "    time.sleep(2)\n",
    "    print(\"Good bye!\")\n",
    "\n",
    "if __name__ == \"__main__\":\n",
    "    print(\"start\")\n",
    "    x = threading.Thread(target = thread_function)\n",
    "    x.start()\n",
    "    print(\"stop\")"
   ]
  },
  {
   "cell_type": "markdown",
   "metadata": {},
   "source": [
    "### 36.  ​ Использование нескольких потоков дает повышение производительности в следующем коде?\n",
    "\n",
    "> Не знаю правильного ответа. Mогу только ориентироваться на статью из 35 пункта.  \n",
    "Скорее не даст производительности.\n"
   ]
  },
  {
   "cell_type": "code",
   "execution_count": 2,
   "metadata": {
    "tags": []
   },
   "outputs": [],
   "source": [
    "import threading\n",
    "\n",
    "def thread_function(a, b):\n",
    "    sum_of_squares = 0\n",
    "    for i in range(a, b):\n",
    "        sum_of_squares += i  * i\n",
    "    #    print(sum_of_squares) \n",
    "    #    закоменчено, ибо выводит дохрена всего\n",
    "\n",
    "if __name__ == \"__main__\":\n",
    "    x = threading.Thread(target = thread_function, args = (1, 10000))\n",
    "    x.start()\n",
    "    y = threading.Thread(target = thread_function, args = (10000, 20000))\n",
    "    y.start()\n",
    "    "
   ]
  },
  {
   "cell_type": "markdown",
   "metadata": {},
   "source": [
    "### 37. Будет ли следующий код выводить список квадратов чисел?\n",
    "> Нет.  \n",
    ".map вызывает интересным образом функцию f (типо \"неявно\", не передавая элементов в нее). Поэтому список some_array не получает эл т.к. внутри функции аргумент x будет null.   \n",
    "Если бы  вместо some_array выводился squares то ответ был бы положительным."
   ]
  },
  {
   "cell_type": "code",
   "execution_count": 1,
   "metadata": {
    "tags": []
   },
   "outputs": [
    {
     "output_type": "stream",
     "name": "stdout",
     "text": "[]\n"
    }
   ],
   "source": [
    "from multiprocessing import Pool\n",
    "\n",
    "some_array = []\n",
    "\n",
    "def f(x):\n",
    "    some_array.append(x * x)\n",
    "    return x * x\n",
    "\n",
    "p = Pool(5)\n",
    "squares = p.map(f, list(range(100000)))\n",
    "\n",
    "# print(squares)\n",
    "print(some_array)"
   ]
  },
  {
   "cell_type": "markdown",
   "metadata": {},
   "source": [
    "### 38.  ​ Выберите правильную последовательность вызываемых методов в следующем коде.\n",
    "> new, init ,call  \n",
    "https://habr.com/ru/post/186608/#intro - магические методы (есть про new и init).  \n",
    "https://pythonz.net/references/named/object.__len__/ (len)  \n",
    "https://pythonz.net/references/named/object.__call__/ (call)  \n",
    "https://pythonz.net/references/named/object.__iter__/ (iter)  \n",
    "Также смотрел последовательность вызовов в дебагере. (если убрать вторую пару скобок, то call не будет вызван)"
   ]
  },
  {
   "cell_type": "code",
   "execution_count": 99,
   "metadata": {
    "tags": []
   },
   "outputs": [
    {
     "name": "stdout",
     "output_type": "stream",
     "text": [
      "KU!\n"
     ]
    }
   ],
   "source": [
    "class Foo:\n",
    "    def __init__(self):\n",
    "        pass\n",
    "\n",
    "    def __new__(cls, *args, **kwargs):\n",
    "        instance = super(Foo, cls).__new__(cls, *args, **kwargs)\n",
    "        return instance\n",
    "\n",
    "    def __call__(self, *args, **kwargs):\n",
    "        print('KU!')\n",
    "\n",
    "    def __len__(self):\n",
    "        return len(self.__dict__)\n",
    "\n",
    "    def __iter__(self):\n",
    "        pass\n",
    "\n",
    "Foo()()"
   ]
  },
  {
   "cell_type": "markdown",
   "metadata": {},
   "source": [
    "### 39. ​ \n",
    "### Рассмотрим следующий код и выберите все функции, которые выполняют поиск общих чисел,    меньших O (N * log (N)). \n",
    "\n",
    "> Ответ не очевиден. \n",
    "Вспоминаем АиСД\n",
    "Предположительно ответ merge2"
   ]
  },
  {
   "cell_type": "code",
   "execution_count": 100,
   "metadata": {},
   "outputs": [],
   "source": [
    "import random\n",
    "import timeit\n",
    "\n",
    "_len = 10000\n",
    "\n",
    "a = [random.randint(1, 100000) for _ in range(_len)]\n",
    "b = [random.randint(1, 100000) for _ in range(_len)]\n",
    "\n",
    "merge = lambda a, b:  [i for i in a + b if i in a and i in b]\n",
    "\n",
    "merge1 = lambda a, b:  [i for i in a if i in b]\n",
    "\n",
    "merge2 = lambda a, b:  list(set(a) & set(b))\n",
    "\n",
    "merge3 = lambda a, b:  [i for i in a if i in set(b)]\n",
    "\n",
    "def merge4(a, b):\n",
    "    set_b = set(b)\n",
    "    return [i for i in a if i in set_b]\n",
    "    "
   ]
  },
  {
   "cell_type": "markdown",
   "metadata": {},
   "source": [
    "### 40. ​ Будет ли следующий код выводить первую строку «foo» и после этой строки «bar»?\n",
    "> И снова юпитер не может правильно отработать.  \n",
    "Вывод данного кода в простом py файле таков:  \n",
    "bar  \n",
    "foo"
   ]
  },
  {
   "cell_type": "code",
   "execution_count": 4,
   "metadata": {
    "tags": []
   },
   "outputs": [
    {
     "output_type": "error",
     "ename": "RuntimeError",
     "evalue": "This event loop is already running",
     "traceback": [
      "\u001b[0;31m---------------------------------------------------------------------------\u001b[0m",
      "\u001b[0;31mRuntimeError\u001b[0m                              Traceback (most recent call last)",
      "\u001b[0;32m<ipython-input-4-3983b939d908>\u001b[0m in \u001b[0;36m<module>\u001b[0;34m\u001b[0m\n\u001b[1;32m     12\u001b[0m \u001b[0;34m\u001b[0m\u001b[0m\n\u001b[1;32m     13\u001b[0m \u001b[0mloop\u001b[0m \u001b[0;34m=\u001b[0m \u001b[0masyncio\u001b[0m\u001b[0;34m.\u001b[0m\u001b[0mget_event_loop\u001b[0m\u001b[0;34m(\u001b[0m\u001b[0;34m)\u001b[0m\u001b[0;34m\u001b[0m\u001b[0;34m\u001b[0m\u001b[0m\n\u001b[0;32m---> 14\u001b[0;31m \u001b[0mloop\u001b[0m\u001b[0;34m.\u001b[0m\u001b[0mrun_until_complete\u001b[0m\u001b[0;34m(\u001b[0m\u001b[0masyncio\u001b[0m\u001b[0;34m.\u001b[0m\u001b[0mwait\u001b[0m\u001b[0;34m(\u001b[0m\u001b[0;34m[\u001b[0m\u001b[0mfoo\u001b[0m\u001b[0;34m(\u001b[0m\u001b[0;34m)\u001b[0m\u001b[0;34m,\u001b[0m \u001b[0mbar\u001b[0m\u001b[0;34m(\u001b[0m\u001b[0;34m)\u001b[0m\u001b[0;34m]\u001b[0m\u001b[0;34m)\u001b[0m\u001b[0;34m)\u001b[0m\u001b[0;34m\u001b[0m\u001b[0;34m\u001b[0m\u001b[0m\n\u001b[0m\u001b[1;32m     15\u001b[0m \u001b[0mloop\u001b[0m\u001b[0;34m.\u001b[0m\u001b[0mclose\u001b[0m\u001b[0;34m(\u001b[0m\u001b[0;34m)\u001b[0m\u001b[0;34m\u001b[0m\u001b[0;34m\u001b[0m\u001b[0m\n",
      "\u001b[0;32m~/anaconda3/lib/python3.7/asyncio/base_events.py\u001b[0m in \u001b[0;36mrun_until_complete\u001b[0;34m(self, future)\u001b[0m\n\u001b[1;32m    569\u001b[0m         \u001b[0mfuture\u001b[0m\u001b[0;34m.\u001b[0m\u001b[0madd_done_callback\u001b[0m\u001b[0;34m(\u001b[0m\u001b[0m_run_until_complete_cb\u001b[0m\u001b[0;34m)\u001b[0m\u001b[0;34m\u001b[0m\u001b[0;34m\u001b[0m\u001b[0m\n\u001b[1;32m    570\u001b[0m         \u001b[0;32mtry\u001b[0m\u001b[0;34m:\u001b[0m\u001b[0;34m\u001b[0m\u001b[0;34m\u001b[0m\u001b[0m\n\u001b[0;32m--> 571\u001b[0;31m             \u001b[0mself\u001b[0m\u001b[0;34m.\u001b[0m\u001b[0mrun_forever\u001b[0m\u001b[0;34m(\u001b[0m\u001b[0;34m)\u001b[0m\u001b[0;34m\u001b[0m\u001b[0;34m\u001b[0m\u001b[0m\n\u001b[0m\u001b[1;32m    572\u001b[0m         \u001b[0;32mexcept\u001b[0m\u001b[0;34m:\u001b[0m\u001b[0;34m\u001b[0m\u001b[0;34m\u001b[0m\u001b[0m\n\u001b[1;32m    573\u001b[0m             \u001b[0;32mif\u001b[0m \u001b[0mnew_task\u001b[0m \u001b[0;32mand\u001b[0m \u001b[0mfuture\u001b[0m\u001b[0;34m.\u001b[0m\u001b[0mdone\u001b[0m\u001b[0;34m(\u001b[0m\u001b[0;34m)\u001b[0m \u001b[0;32mand\u001b[0m \u001b[0;32mnot\u001b[0m \u001b[0mfuture\u001b[0m\u001b[0;34m.\u001b[0m\u001b[0mcancelled\u001b[0m\u001b[0;34m(\u001b[0m\u001b[0;34m)\u001b[0m\u001b[0;34m:\u001b[0m\u001b[0;34m\u001b[0m\u001b[0;34m\u001b[0m\u001b[0m\n",
      "\u001b[0;32m~/anaconda3/lib/python3.7/asyncio/base_events.py\u001b[0m in \u001b[0;36mrun_forever\u001b[0;34m(self)\u001b[0m\n\u001b[1;32m    524\u001b[0m         \u001b[0mself\u001b[0m\u001b[0;34m.\u001b[0m\u001b[0m_check_closed\u001b[0m\u001b[0;34m(\u001b[0m\u001b[0;34m)\u001b[0m\u001b[0;34m\u001b[0m\u001b[0;34m\u001b[0m\u001b[0m\n\u001b[1;32m    525\u001b[0m         \u001b[0;32mif\u001b[0m \u001b[0mself\u001b[0m\u001b[0;34m.\u001b[0m\u001b[0mis_running\u001b[0m\u001b[0;34m(\u001b[0m\u001b[0;34m)\u001b[0m\u001b[0;34m:\u001b[0m\u001b[0;34m\u001b[0m\u001b[0;34m\u001b[0m\u001b[0m\n\u001b[0;32m--> 526\u001b[0;31m             \u001b[0;32mraise\u001b[0m \u001b[0mRuntimeError\u001b[0m\u001b[0;34m(\u001b[0m\u001b[0;34m'This event loop is already running'\u001b[0m\u001b[0;34m)\u001b[0m\u001b[0;34m\u001b[0m\u001b[0;34m\u001b[0m\u001b[0m\n\u001b[0m\u001b[1;32m    527\u001b[0m         \u001b[0;32mif\u001b[0m \u001b[0mevents\u001b[0m\u001b[0;34m.\u001b[0m\u001b[0m_get_running_loop\u001b[0m\u001b[0;34m(\u001b[0m\u001b[0;34m)\u001b[0m \u001b[0;32mis\u001b[0m \u001b[0;32mnot\u001b[0m \u001b[0;32mNone\u001b[0m\u001b[0;34m:\u001b[0m\u001b[0;34m\u001b[0m\u001b[0;34m\u001b[0m\u001b[0m\n\u001b[1;32m    528\u001b[0m             raise RuntimeError(\n",
      "\u001b[0;31mRuntimeError\u001b[0m: This event loop is already running"
     ]
    }
   ],
   "source": [
    "import asyncio\n",
    "\n",
    "async def say_after(delay, what):\n",
    "    await asyncio.sleep(delay)\n",
    "    print(what)\n",
    "\n",
    "async def foo():\n",
    "    await say_after(2, 'foo')\n",
    "\n",
    "async def bar():\n",
    "    await say_after(1, 'bar')\n",
    "\n",
    "loop = asyncio.get_event_loop()\n",
    "loop.run_until_complete(asyncio.wait([foo(), bar()]))\n",
    "loop.close()"
   ]
  },
  {
   "cell_type": "markdown",
   "metadata": {},
   "source": [
    "### 41. ​ Рассмотрим следующий код. Сколько записей будет в приведенном списке «Filter_values»? \n",
    "> 3\n"
   ]
  },
  {
   "cell_type": "code",
   "execution_count": 102,
   "metadata": {
    "tags": []
   },
   "outputs": [
    {
     "name": "stdout",
     "output_type": "stream",
     "text": [
      "3\n"
     ]
    }
   ],
   "source": [
    "def form_filter(name=None, date=None, sex=None):\n",
    "    filter_params = {}\n",
    "\n",
    "    if name:\n",
    "        filter_params['name'] = name\n",
    "\n",
    "    if date:\n",
    "        filter_params['date'] = date\n",
    "\n",
    "    if sex:\n",
    "        filter_params['sex'] = sex\n",
    "\n",
    "    return filter_params\n",
    "\n",
    "\n",
    "def filter_values_by_filter(values_to_filter, filter_params):\n",
    "    ret = []\n",
    "    for v in values_to_filter:\n",
    "        if all(filter_params.get(f) == v.get(f) for f in filter_params):\n",
    "            ret.append(v)\n",
    "    return ret\n",
    "\n",
    "\n",
    "values = [\n",
    "    {\"name\": \"santa\", \"date\": \"10/10/2010\", \"sex\": \"male\"},\n",
    "    {\"name\": \"miki_maus\", \"date\": \"10/10/2010\", \"sex\": \"male\"},\n",
    "    {\"name\": \"john_doe\", \"date\": \"10/11/2010\", \"sex\": \"male\"},\n",
    "    {\"name\": \"john_doe\", \"date\": \"10/10/2010\", \"sex\": \"male\"},\n",
    "    {\"name\": \"john_doe\", \"date\": \"10/10/2010\", \"sex\": \"female\"},\n",
    "]\n",
    "\n",
    "filter_obj = form_filter(date=\"10/10/2010\", sex=\"male\")\n",
    "filtered_values = filter_values_by_filter(values, filter_obj)\n",
    "print(len(filtered_values))"
   ]
  },
  {
   "cell_type": "markdown",
   "metadata": {},
   "source": [
    "### 42.  Это правильный способ получить одномерный список вида [1, 2, 3, 4]?\n",
    "> Нет"
   ]
  },
  {
   "cell_type": "code",
   "execution_count": 104,
   "metadata": {
    "scrolled": true,
    "tags": []
   },
   "outputs": [
    {
     "ename": "NameError",
     "evalue": "name 'u' is not defined",
     "output_type": "error",
     "traceback": [
      "\u001b[0;31m---------------------------------------------------------------------------\u001b[0m",
      "\u001b[0;31mNameError\u001b[0m                                 Traceback (most recent call last)",
      "\u001b[0;32m<ipython-input-104-ba5b78d831f5>\u001b[0m in \u001b[0;36m<module>\u001b[0;34m\u001b[0m\n\u001b[1;32m      1\u001b[0m \u001b[0ma\u001b[0m \u001b[0;34m=\u001b[0m \u001b[0;34m[\u001b[0m\u001b[0;34m[\u001b[0m\u001b[0;36m1\u001b[0m\u001b[0;34m,\u001b[0m \u001b[0;36m2\u001b[0m\u001b[0;34m]\u001b[0m\u001b[0;34m,\u001b[0m \u001b[0;34m[\u001b[0m\u001b[0;36m3\u001b[0m\u001b[0;34m,\u001b[0m \u001b[0;36m4\u001b[0m\u001b[0;34m]\u001b[0m\u001b[0;34m]\u001b[0m\u001b[0;34m\u001b[0m\u001b[0;34m\u001b[0m\u001b[0m\n\u001b[1;32m      2\u001b[0m \u001b[0mb\u001b[0m \u001b[0;34m=\u001b[0m \u001b[0;34m[\u001b[0m\u001b[0;34m]\u001b[0m\u001b[0;34m\u001b[0m\u001b[0;34m\u001b[0m\u001b[0m\n\u001b[0;32m----> 3\u001b[0;31m \u001b[0mb\u001b[0m \u001b[0;34m=\u001b[0m \u001b[0;34m[\u001b[0m\u001b[0mv\u001b[0m \u001b[0;32mfor\u001b[0m \u001b[0mv\u001b[0m \u001b[0;32min\u001b[0m \u001b[0mu\u001b[0m \u001b[0;32mfor\u001b[0m \u001b[0mu\u001b[0m \u001b[0;32min\u001b[0m \u001b[0ma\u001b[0m\u001b[0;34m]\u001b[0m\u001b[0;34m\u001b[0m\u001b[0;34m\u001b[0m\u001b[0m\n\u001b[0m",
      "\u001b[0;31mNameError\u001b[0m: name 'u' is not defined"
     ]
    }
   ],
   "source": [
    "a = [[1, 2], [3, 4]]\n",
    "b = []\n",
    "b = [v for v in u for u in a]"
   ]
  },
  {
   "cell_type": "markdown",
   "metadata": {},
   "source": [
    "### 43.  ​ Рассмотрите следующий код и выберите выражение, которое возвращает False или вызывает исключение:  \n",
    "> isinstance(a, type) вызывает false. Остальное true."
   ]
  },
  {
   "cell_type": "code",
   "execution_count": 105,
   "metadata": {
    "tags": []
   },
   "outputs": [
    {
     "name": "stdout",
     "output_type": "stream",
     "text": [
      "False\n"
     ]
    }
   ],
   "source": [
    "class Foo:\n",
    "    pass\n",
    "\n",
    "class Foo1:\n",
    "    pass\n",
    "\n",
    "class Bar(Foo, Foo1):\n",
    "    pass\n",
    "\n",
    "a = Bar()\n",
    "\n",
    "print(isinstance(a, type))"
   ]
  },
  {
   "cell_type": "markdown",
   "metadata": {},
   "source": [
    "### 44. ​ Каким будет вывод следующего кода?\n"
   ]
  },
  {
   "cell_type": "code",
   "execution_count": 106,
   "metadata": {
    "tags": []
   },
   "outputs": [
    {
     "name": "stdout",
     "output_type": "stream",
     "text": [
      "[0]\n",
      "[0]\n",
      "[0, 1]\n"
     ]
    }
   ],
   "source": [
    "def foo(bar=[]):\n",
    "    bar.append(len(bar))\n",
    "    print(bar)\n",
    "\n",
    "foo()\n",
    "foo([])\n",
    "foo()"
   ]
  },
  {
   "cell_type": "markdown",
   "metadata": {},
   "source": [
    "### 45. ​ Какой код будет переводить s в строку равную «mistakes with sentence some is this», s = \" %%tHIS is soMe %%sentence %_ %witH misTAKes _%\"\n",
    "\n",
    "> Странная фигня. \n",
    "В данном случае должен был быть код который:  \n",
    "* убирает '%' (метод .replace('%', ''))  \n",
    "*      убирает '_' (replace)  \n",
    "* разделяет строку на слова (split())  \n",
    "* отзеркаливает массив (reverse())  \n",
    "* соединяет все в одно через пробел(' '.join())  \n",
    "Ниже приведен приближенный к верному ответ(У меня в юпитере так вообще целиком правильный ответ)\n"
   ]
  },
  {
   "cell_type": "code",
   "execution_count": 107,
   "metadata": {
    "tags": []
   },
   "outputs": [
    {
     "name": "stdout",
     "output_type": "stream",
     "text": [
      "mistakes_ with _ sentence some is this\n"
     ]
    }
   ],
   "source": [
    "s = \" %%tHIS is soMe %%sentence %_%witH misTAKes_%\"\n",
    "\n",
    "\n",
    "print(' '.join(reversed(s.replace('%', ' ').lower().split())))"
   ]
  },
  {
   "cell_type": "markdown",
   "metadata": {},
   "source": []
  },
  {
   "cell_type": "markdown",
   "metadata": {},
   "source": [
    "### 46. Выберите возвращаемое значение rec (10)\n",
    " > 32. \n",
    " Следите за кол - вом рекурсивных вызовов."
   ]
  },
  {
   "cell_type": "code",
   "execution_count": 108,
   "metadata": {
    "tags": []
   },
   "outputs": [
    {
     "name": "stdout",
     "output_type": "stream",
     "text": [
      "32\n"
     ]
    }
   ],
   "source": [
    "def rec(n):\n",
    "    if n <= 2:\n",
    "        return n\n",
    "\n",
    "    return rec(n - 2) * 2\n",
    "\n",
    "print(rec(10))"
   ]
  },
  {
   "cell_type": "markdown",
   "metadata": {},
   "source": [
    "### 47.  ​​ Рассмотрим следующий код. Будет ли а равно б?  \n",
    ">  True.  \n",
    " https://tproger.ru/translations/python-built-ins-worth-learning/"
   ]
  },
  {
   "cell_type": "code",
   "execution_count": 109,
   "metadata": {
    "tags": []
   },
   "outputs": [
    {
     "name": "stdout",
     "output_type": "stream",
     "text": [
      "True\n"
     ]
    }
   ],
   "source": [
    "ar = ['a', 'b', 'c']\n",
    "\n",
    "a = zip(range(len(ar)), ar)\n",
    "a = list(a)\n",
    "\n",
    "b = list(enumerate(ar))\n",
    "\n",
    "is_equal = (a == b)\n",
    "print(is_equal)"
   ]
  },
  {
   "cell_type": "markdown",
   "metadata": {},
   "source": [
    "### 48. ​ Выберите правильный вывод этого кода. \n",
    "> StopIteration  \n",
    "https://habr.com/ru/post/132554/"
   ]
  },
  {
   "cell_type": "code",
   "execution_count": 110,
   "metadata": {
    "tags": []
   },
   "outputs": [
    {
     "ename": "StopIteration",
     "evalue": "",
     "output_type": "error",
     "traceback": [
      "\u001b[0;31m---------------------------------------------------------------------------\u001b[0m",
      "\u001b[0;31mStopIteration\u001b[0m                             Traceback (most recent call last)",
      "\u001b[0;32m<ipython-input-110-87421af4c887>\u001b[0m in \u001b[0;36m<module>\u001b[0;34m\u001b[0m\n\u001b[1;32m      8\u001b[0m \u001b[0;34m\u001b[0m\u001b[0m\n\u001b[1;32m      9\u001b[0m \u001b[0;32mfor\u001b[0m \u001b[0mi\u001b[0m \u001b[0;32min\u001b[0m \u001b[0mrange\u001b[0m\u001b[0;34m(\u001b[0m\u001b[0;36m10\u001b[0m\u001b[0;34m)\u001b[0m\u001b[0;34m:\u001b[0m\u001b[0;34m\u001b[0m\u001b[0;34m\u001b[0m\u001b[0m\n\u001b[0;32m---> 10\u001b[0;31m     \u001b[0mnext\u001b[0m\u001b[0;34m(\u001b[0m\u001b[0mgen\u001b[0m\u001b[0;34m)\u001b[0m\u001b[0;34m\u001b[0m\u001b[0;34m\u001b[0m\u001b[0m\n\u001b[0m\u001b[1;32m     11\u001b[0m \u001b[0;34m\u001b[0m\u001b[0m\n\u001b[1;32m     12\u001b[0m \u001b[0mprint\u001b[0m\u001b[0;34m(\u001b[0m\u001b[0mnext\u001b[0m\u001b[0;34m(\u001b[0m\u001b[0mgen\u001b[0m\u001b[0;34m)\u001b[0m\u001b[0;34m)\u001b[0m\u001b[0;34m\u001b[0m\u001b[0;34m\u001b[0m\u001b[0m\n",
      "\u001b[0;31mStopIteration\u001b[0m: "
     ]
    }
   ],
   "source": [
    "def my_gen():\n",
    "    _sum = 0\n",
    "    for i in range(5):\n",
    "        _sum += i\n",
    "        yield _sum\n",
    "\n",
    "gen = my_gen()\n",
    "\n",
    "for i in range(10):\n",
    "    next(gen)\n",
    "\n",
    "print(next(gen))"
   ]
  },
  {
   "cell_type": "markdown",
   "metadata": {},
   "source": [
    "### 49. ​ Рассмотрите следующий код и выберите правильный вывод. \n",
    "> 27 потому ,что:   \n",
    "словарь класса Person для оъбекта frodo будет состоять из {'uid' : 100, 'age' : 25} (длинна = 2)"
   ]
  },
  {
   "cell_type": "code",
   "execution_count": 111,
   "metadata": {
    "tags": []
   },
   "outputs": [
    {
     "name": "stdout",
     "output_type": "stream",
     "text": [
      "27\n"
     ]
    }
   ],
   "source": [
    "class Person:\n",
    "    def __init__(self, uid):\n",
    "        self.uid = uid\n",
    "\n",
    "\n",
    "frodo = Person(100)\n",
    "\n",
    "frodo.__dict__['age'] = 25\n",
    "\n",
    "# print(frodo.__dict__)\n",
    "print(frodo.age + len(frodo.__dict__))\n",
    "\n"
   ]
  },
  {
   "cell_type": "markdown",
   "metadata": {},
   "source": [
    "### 50. ​ Выберите правильный вывод следующего кода.\n"
   ]
  },
  {
   "cell_type": "code",
   "execution_count": 112,
   "metadata": {
    "tags": []
   },
   "outputs": [
    {
     "name": "stdout",
     "output_type": "stream",
     "text": [
      "someway\n"
     ]
    }
   ],
   "source": [
    "class Base:\n",
    "    def foo(self):\n",
    "        raise NotImplemented()\n",
    "\n",
    "\n",
    "class FooSimple(Base):\n",
    "    def foo(self):\n",
    "        return \"simple\"\n",
    "\n",
    "\n",
    "class FooComplex(Base):\n",
    "    def foo(self):\n",
    "        return \"complex\"\n",
    "\n",
    "\n",
    "class FooSomeWay(FooSimple):\n",
    "    def foo(self):\n",
    "        return \"someway\"\n",
    "\n",
    "\n",
    "class FooDifferent(FooSomeWay):\n",
    "    def bar(self):\n",
    "        return \"bar\"\n",
    "\n",
    "print(FooDifferent().foo())"
   ]
  },
  {
   "cell_type": "markdown",
   "metadata": {},
   "source": [
    "### 51.  https://www.youtube.com/watch?time_continue=1&v=YLrSfoGID_Y&feature=emb_title"
   ]
  },
  {
   "cell_type": "markdown",
   "metadata": {},
   "source": [
    "### 52.  Как сделать поле модели необязательным?\n",
    "> > https://djbook.ru/ch06s06.html  \n",
    "blank = true"
   ]
  },
  {
   "cell_type": "markdown",
   "metadata": {},
   "source": [
    "### 53. В каком файле описывается схема взаимодействия ссылок и представлений?\n",
    "> ursl.py"
   ]
  },
  {
   "cell_type": "markdown",
   "metadata": {},
   "source": [
    "### 54. Какой декоратор для ограничения доступа к представлениям?  \n",
    "> @login_required"
   ]
  },
  {
   "cell_type": "markdown",
   "metadata": {},
   "source": [
    "### 55. Какая из следующих команд запускает сервер разработки, разрешая внешние соединения? \n",
    "> manage.py runserver 0.0.0.0:8000\n",
    "https://djbook.ru/rel1.9/intro/tutorial01.html"
   ]
  },
  {
   "cell_type": "markdown",
   "metadata": {},
   "source": [
    "#### 56. Какой шаблонный тег указывает родительский шаблон? \n",
    "> {% extends \"base.html\" %}"
   ]
  },
  {
   "cell_type": "markdown",
   "metadata": {},
   "source": [
    "### 57. Какой из вариантов использования фильтров не верен?\n",
    "> все верны"
   ]
  },
  {
   "cell_type": "markdown",
   "metadata": {},
   "source": [
    "### 58. Как задать модели сортировку по id? \n",
    ">"
   ]
  },
  {
   "cell_type": "code",
   "execution_count": 113,
   "metadata": {
    "tags": []
   },
   "outputs": [],
   "source": [
    "class Meta:\n",
    "    ordering = [\"id\"]"
   ]
  },
  {
   "cell_type": "markdown",
   "metadata": {},
   "source": [
    "### 59. Обязательно ли в моделях самому определять первичные ключи?\n",
    "> Если primary_key=True не указан ни для одного поля, Django самостоятельно добавит поле типа IntegerField для хранения первичного ключа, по-этому ВАМ НЕ ОБЯЗАТЕЛЬНО УКАЗЫВАТЬ primary_key=True для каждой модели. Подробнее Первичный ключ по-умолчанию.  \n",
    "https://djbook.ru/rel1.4/topics/db/models.html"
   ]
  },
  {
   "cell_type": "markdown",
   "metadata": {},
   "source": [
    "### 60. ​ Как добавить модель в интерфейс администратора? \n",
    "> В папке приложения создать файл admin.py и зарегистрировать нужные модели в нем"
   ]
  },
  {
   "cell_type": "markdown",
   "metadata": {},
   "source": [
    "### 61. ​ Какая функция принимает имя шаблона и контекст и возвращает объект HttpResponse с обработанным шаблоном?  \n",
    "> render_to_response"
   ]
  },
  {
   "cell_type": "markdown",
   "metadata": {},
   "source": [
    "### 62. ​ Какая команда создает файлы миграций в Django? \n",
    "> manage.py makemigrations"
   ]
  },
  {
   "attachments": {
    "image.png": {
     "image/png": "[encoded data removed]"
    }
   },
   "cell_type": "markdown",
   "metadata": {},
   "source": [
    "### 63. Как проверить что данные в форме верны? \n",
    "> form.is_valid()\n",
    "> \n",
    "https://djbook.ru/rel1.8/topics/db/models.html  \n"
   ]
  },
  {
   "cell_type": "markdown",
   "metadata": {},
   "source": [
    "### 64. Как создать проект в Django? \n",
    "> django-admin startproject projec"
   ]
  },
  {
   "cell_type": "markdown",
   "metadata": {},
   "source": [
    "### 65. Будет ли доступен Django проект по ссылке http://localhost:8000/admin, если ALLOWED_HOSTS = [] и DEBUG = False? (Django работает локально на порту 8000) \n",
    "> нет\n"
   ]
  },
  {
   "cell_type": "markdown",
   "metadata": {},
   "source": [
    "### 66. Как добавить приложение. созданное с помощью комманды manage.py createapp news в\n",
    "проект.  \n",
    "> Нужно добавить в файле settings.py в переменную INSTALLED_APPS имя нашего приложения news"
   ]
  },
  {
   "cell_type": "markdown",
   "metadata": {},
   "source": [
    "### 67.  Для чего в Django используется middleware?\n",
    "> для обработки запросов и ответов в Django"
   ]
  },
  {
   "cell_type": "markdown",
   "metadata": {},
   "source": [
    "### 68. Как в основной/проектный urls.py добавить urls из другого приложения?\n",
    "> path('news/', include('catalog.urls')),"
   ]
  },
  {
   "cell_type": "markdown",
   "metadata": {},
   "source": [
    "### 69.  Как подключить стандартную ​ аутентификацию​ в Django?\n",
    "> https://djbook.ru/rel1.9/topics/auth/index.html"
   ]
  },
  {
   "cell_type": "markdown",
   "metadata": {},
   "source": [
    "### 70.  ​ Как подключить логирование в Django?\n",
    "> Cоздать переменную LOGGING в settings.py и указать конфигурацию."
   ]
  },
  {
   "cell_type": "markdown",
   "metadata": {},
   "source": [
    "### 71. ​ Как в моделях создать поле ​ для указания отношения «один ко многим» к другой модели базы данных?\n",
    "> field = models.ForeingKey(‘DB_TABLE’)  \n",
    "https://djbook.ru/rel1.4/topics/db/models.html"
   ]
  },
  {
   "cell_type": "markdown",
   "metadata": {},
   "source": [
    "### 72. Какое представление лучше использовать для отображения списка записей в базе данных?\n",
    ">  def my_view(request): my_objects = get_list_or_404(MyModel, published=True)"
   ]
  },
  {
   "cell_type": "markdown",
   "metadata": {},
   "source": [
    "### Список неправильных \\ странных \\ непонятных вопросов:\n",
    "\n",
    "* 24\n",
    "* 28 (немного некорректный вопрос)\n",
    "* 32  \n",
    "* 34\n",
    "* 35(Ответ верный,просто есть подозрения)\n",
    "* 36\n",
    "* 39\n",
    "* 40 (не нашел объяснения)\n",
    "* 45\n",
    "\n",
    "Если у вас есть хорошие объяснения просьба поделиться.\n",
    "Список не финальный(есть такая мысль)."
   ]
  }
 ],
 "metadata": {
  "kernelspec": {
   "display_name": "Python 3.7.3 64-bit ('base': conda)",
   "language": "python",
   "name": "python37364bitbasecondac430f3a48a4d480ba3903bff38446b03"
  },
  "language_info": {
   "codemirror_mode": {
    "name": "ipython",
    "version": 3
   },
   "file_extension": ".py",
   "mimetype": "text/x-python",
   "name": "python",
   "nbconvert_exporter": "python",
   "pygments_lexer": "ipython3",
   "version": "3.7.3-final"
  }
 },
 "nbformat": 4,
 "nbformat_minor": 2
}